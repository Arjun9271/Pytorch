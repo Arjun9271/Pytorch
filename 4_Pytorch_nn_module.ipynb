{
  "nbformat": 4,
  "nbformat_minor": 0,
  "metadata": {
    "colab": {
      "provenance": [],
      "toc_visible": true,
      "gpuType": "T4",
      "authorship_tag": "ABX9TyNMhxe0z2YPOS1dMM71X6Je",
      "include_colab_link": true
    },
    "kernelspec": {
      "name": "python3",
      "display_name": "Python 3"
    },
    "language_info": {
      "name": "python"
    },
    "accelerator": "GPU"
  },
  "cells": [
    {
      "cell_type": "markdown",
      "metadata": {
        "id": "view-in-github",
        "colab_type": "text"
      },
      "source": [
        "<a href=\"https://colab.research.google.com/github/Arjun9271/Pytorch/blob/main/4_Pytorch_nn_module.ipynb\" target=\"_parent\"><img src=\"https://colab.research.google.com/assets/colab-badge.svg\" alt=\"Open In Colab\"/></a>"
      ]
    },
    {
      "cell_type": "markdown",
      "source": [
        "#NN module\n",
        "\n",
        "The torch.nn module in PyTorch is a core library that provides a wide array of classes and\n",
        "functions designed to help developers build neural networks efficiently and effectively. It\n",
        "abstracts the complexity of creating and training neural networks by offering pre-built layers,\n",
        "loss functions, activation functions, and other utilities, enabling you to focus on designing and\n",
        "experimenting with model architectures.\n",
        "Key Components of torch.nn:\n",
        "#### 1. Modules (Layers):\n",
        "nn.Module:\n",
        "- The base class for all neural network modules. Your custom models and\n",
        "layers should subclass this class.\n",
        "\n",
        "- Common Layers: Includes layers like nn.Linear (fully connected layer), nn.Conv2d\n",
        "(convolutional layer), nn.LSTM (recurrent layer), and many others.\n",
        "\n",
        "#### 2. Activation Functions:\n",
        "- Functions like nn.ReLU, nn.Sigmoid, and nn.Tanh introduce non-linearities to the\n",
        "model, allowing it to learn complex patterns.\n",
        "\n",
        "#### 3. Loss Functions:\n",
        "- Provides loss functions such as nn.CrossEntropyLoss, nn.MSELoss, and nn.NLLLoss to\n",
        "quantify the difference between the model's predictions and the actual targets.\n",
        "\n",
        "#### 4. Container Modules:\n",
        "**nn.Sequential:**\n",
        "-  A sequential container to stack layers in order.\n",
        "\n",
        "#### 5. Regularization and Dropout:\n",
        "- Layers like nn.Dropout and nn.BatchNorm2d help prevent overfitting and improve\n",
        "the model's ability to generalize to new data."
      ],
      "metadata": {
        "id": "iE50ERBxteaB"
      }
    },
    {
      "cell_type": "code",
      "execution_count": 1,
      "metadata": {
        "colab": {
          "base_uri": "https://localhost:8080/"
        },
        "id": "A4w1RE6AsPF_",
        "outputId": "a474c251-48d2-499a-c481-40c9ab9b7467"
      },
      "outputs": [
        {
          "output_type": "stream",
          "name": "stdout",
          "text": [
            "cpu\n"
          ]
        }
      ],
      "source": [
        "import torch\n",
        "\n",
        "# device name\n",
        "device = torch.device(\"cuda\" if torch.cuda.is_available() else \"cpu\")\n",
        "print(device)"
      ]
    },
    {
      "cell_type": "code",
      "source": [
        "# create a model class\n",
        "\n",
        "import torch\n",
        "import torch.nn as nn\n",
        "\n",
        "class Model(nn.Module):\n",
        "      def __init__(self,num_features):\n",
        "\n",
        "            super().__init__()\n",
        "            self.linear1 = nn.Linear(num_features,3)\n",
        "            self.relu = nn.ReLU()\n",
        "            self.linear2 = nn.Linear(3,1)\n",
        "            self.sigmoid = nn.Sigmoid()\n",
        "\n",
        "      def forward(self,features):\n",
        "            out = self.linear1(features)\n",
        "            out = self.relu(out)\n",
        "            out = self.linear2(out)\n",
        "            out = self.sigmoid(out)\n",
        "\n",
        "            return out"
      ],
      "metadata": {
        "id": "VEom30Gqsdek"
      },
      "execution_count": 18,
      "outputs": []
    },
    {
      "cell_type": "code",
      "source": [
        "# create a dataset\n",
        "\n",
        "features = torch.rand(10,5)\n",
        "\n",
        "# create model\n",
        "model = Model(features.shape[1])\n",
        "\n",
        "\n",
        "# call model for forward pass\n",
        "# model.forward(features)\n",
        "model(features)"
      ],
      "metadata": {
        "colab": {
          "base_uri": "https://localhost:8080/"
        },
        "id": "kcvxz8WbsdiW",
        "outputId": "b35a17ea-065e-4c59-c6dd-b9c3d0bdf366"
      },
      "execution_count": 19,
      "outputs": [
        {
          "output_type": "execute_result",
          "data": {
            "text/plain": [
              "tensor([[0.5038],\n",
              "        [0.4953],\n",
              "        [0.5051],\n",
              "        [0.5079],\n",
              "        [0.4953],\n",
              "        [0.5042],\n",
              "        [0.5025],\n",
              "        [0.5055],\n",
              "        [0.4915],\n",
              "        [0.5036]], grad_fn=<SigmoidBackward0>)"
            ]
          },
          "metadata": {},
          "execution_count": 19
        }
      ]
    },
    {
      "cell_type": "code",
      "source": [
        "# show model weights\n",
        "model.linear1.weight"
      ],
      "metadata": {
        "colab": {
          "base_uri": "https://localhost:8080/"
        },
        "id": "gpsgSI-ysdmD",
        "outputId": "cf1c9f82-f3a7-4478-e265-aceda25153ff"
      },
      "execution_count": 21,
      "outputs": [
        {
          "output_type": "execute_result",
          "data": {
            "text/plain": [
              "Parameter containing:\n",
              "tensor([[-1.9160e-04,  3.3154e-01, -4.3443e-01,  3.0936e-01, -3.9135e-01],\n",
              "        [ 2.5177e-01,  6.0479e-02, -3.2913e-01,  2.9339e-01, -1.4074e-01],\n",
              "        [-1.1564e-01, -1.2946e-01,  3.1292e-01,  4.2859e-01,  2.4887e-01]],\n",
              "       requires_grad=True)"
            ]
          },
          "metadata": {},
          "execution_count": 21
        }
      ]
    },
    {
      "cell_type": "code",
      "source": [
        "# show bias\n",
        "\n",
        "model.linear1.bias"
      ],
      "metadata": {
        "colab": {
          "base_uri": "https://localhost:8080/"
        },
        "id": "Dk906p75sdpd",
        "outputId": "656eb546-0dc1-4853-aff0-6c2747719278"
      },
      "execution_count": 22,
      "outputs": [
        {
          "output_type": "execute_result",
          "data": {
            "text/plain": [
              "Parameter containing:\n",
              "tensor([ 0.3249, -0.1545, -0.0565], requires_grad=True)"
            ]
          },
          "metadata": {},
          "execution_count": 22
        }
      ]
    },
    {
      "cell_type": "code",
      "source": [
        "! pip install torchinfo"
      ],
      "metadata": {
        "colab": {
          "base_uri": "https://localhost:8080/"
        },
        "id": "lWAySAC-sds2",
        "outputId": "0aa4a387-1846-43d8-d4c4-c7ee8cafcb46"
      },
      "execution_count": 23,
      "outputs": [
        {
          "output_type": "stream",
          "name": "stdout",
          "text": [
            "Requirement already satisfied: torchinfo in /usr/local/lib/python3.10/dist-packages (1.8.0)\n"
          ]
        }
      ]
    },
    {
      "cell_type": "code",
      "source": [
        "from torchinfo import summary\n",
        "\n",
        "summary(model,input_size=(10,5))"
      ],
      "metadata": {
        "colab": {
          "base_uri": "https://localhost:8080/"
        },
        "id": "mEj8htPisdwV",
        "outputId": "a8dee76b-dd4e-4d09-eda7-9c247875b9f3"
      },
      "execution_count": 24,
      "outputs": [
        {
          "output_type": "execute_result",
          "data": {
            "text/plain": [
              "==========================================================================================\n",
              "Layer (type:depth-idx)                   Output Shape              Param #\n",
              "==========================================================================================\n",
              "Model                                    [10, 1]                   --\n",
              "├─Linear: 1-1                            [10, 3]                   18\n",
              "├─ReLU: 1-2                              [10, 3]                   --\n",
              "├─Linear: 1-3                            [10, 1]                   4\n",
              "├─Sigmoid: 1-4                           [10, 1]                   --\n",
              "==========================================================================================\n",
              "Total params: 22\n",
              "Trainable params: 22\n",
              "Non-trainable params: 0\n",
              "Total mult-adds (M): 0.00\n",
              "==========================================================================================\n",
              "Input size (MB): 0.00\n",
              "Forward/backward pass size (MB): 0.00\n",
              "Params size (MB): 0.00\n",
              "Estimated Total Size (MB): 0.00\n",
              "=========================================================================================="
            ]
          },
          "metadata": {},
          "execution_count": 24
        }
      ]
    },
    {
      "cell_type": "markdown",
      "source": [
        "# Using Sequential Container"
      ],
      "metadata": {
        "id": "6Xvk6RNW2gox"
      }
    },
    {
      "cell_type": "code",
      "source": [
        "# create a model class\n",
        "\n",
        "import torch\n",
        "import torch.nn as nn\n",
        "\n",
        "class Model_v(nn.Module):\n",
        "      def __init__(self,num_features):\n",
        "\n",
        "            super().__init__()\n",
        "            self.network = nn.Sequential(\n",
        "\n",
        "            nn.Linear(num_features,3),\n",
        "            nn.ReLU(),\n",
        "            nn.Linear(3,1),\n",
        "            nn.Sigmoid(),\n",
        "\n",
        "            )\n",
        "\n",
        "      def forward(self,features):\n",
        "\n",
        "            out = self.network(features)\n",
        "\n",
        "            return out"
      ],
      "metadata": {
        "id": "JU0fzzE7sd3c"
      },
      "execution_count": 29,
      "outputs": []
    },
    {
      "cell_type": "code",
      "source": [
        "# create a dataset\n",
        "\n",
        "features = torch.rand(10,5)\n",
        "\n",
        "# create model\n",
        "new_model = Model_v(features.shape[1])\n",
        "\n",
        "\n",
        "# call model for forward pass\n",
        "# model.forward(features)\n",
        "new_model(features)"
      ],
      "metadata": {
        "colab": {
          "base_uri": "https://localhost:8080/"
        },
        "id": "dQ2fGG8Nsd6z",
        "outputId": "bd399c08-ca21-4dd7-d48f-86dc75caa2a0"
      },
      "execution_count": 30,
      "outputs": [
        {
          "output_type": "execute_result",
          "data": {
            "text/plain": [
              "tensor([[0.3850],\n",
              "        [0.4115],\n",
              "        [0.3627],\n",
              "        [0.3934],\n",
              "        [0.3959],\n",
              "        [0.3693],\n",
              "        [0.3931],\n",
              "        [0.4138],\n",
              "        [0.4042],\n",
              "        [0.3541]], grad_fn=<SigmoidBackward0>)"
            ]
          },
          "metadata": {},
          "execution_count": 30
        }
      ]
    },
    {
      "cell_type": "code",
      "source": [],
      "metadata": {
        "id": "U6GHN4Aesd-P"
      },
      "execution_count": 30,
      "outputs": []
    },
    {
      "cell_type": "code",
      "source": [
        "import numpy as np\n",
        "import pandas as pd\n",
        "import torch\n",
        "from sklearn.model_selection import train_test_split\n",
        "from sklearn.preprocessing import StandardScaler\n",
        "from sklearn.preprocessing import LabelEncoder"
      ],
      "metadata": {
        "id": "jaeN81xeseB6"
      },
      "execution_count": 31,
      "outputs": []
    },
    {
      "cell_type": "code",
      "source": [
        "df = pd.read_csv('https://raw.githubusercontent.com/gscdit/Breast-Cancer-Detection/refs/heads/master/data.csv')\n",
        "df.head()"
      ],
      "metadata": {
        "colab": {
          "base_uri": "https://localhost:8080/",
          "height": 273
        },
        "id": "sIRgCTjVzDc8",
        "outputId": "a8263c94-acde-4526-f75c-2748d719b12e"
      },
      "execution_count": 32,
      "outputs": [
        {
          "output_type": "execute_result",
          "data": {
            "text/plain": [
              "         id diagnosis  radius_mean  texture_mean  perimeter_mean  area_mean  \\\n",
              "0    842302         M        17.99         10.38          122.80     1001.0   \n",
              "1    842517         M        20.57         17.77          132.90     1326.0   \n",
              "2  84300903         M        19.69         21.25          130.00     1203.0   \n",
              "3  84348301         M        11.42         20.38           77.58      386.1   \n",
              "4  84358402         M        20.29         14.34          135.10     1297.0   \n",
              "\n",
              "   smoothness_mean  compactness_mean  concavity_mean  concave points_mean  \\\n",
              "0          0.11840           0.27760          0.3001              0.14710   \n",
              "1          0.08474           0.07864          0.0869              0.07017   \n",
              "2          0.10960           0.15990          0.1974              0.12790   \n",
              "3          0.14250           0.28390          0.2414              0.10520   \n",
              "4          0.10030           0.13280          0.1980              0.10430   \n",
              "\n",
              "   ...  texture_worst  perimeter_worst  area_worst  smoothness_worst  \\\n",
              "0  ...          17.33           184.60      2019.0            0.1622   \n",
              "1  ...          23.41           158.80      1956.0            0.1238   \n",
              "2  ...          25.53           152.50      1709.0            0.1444   \n",
              "3  ...          26.50            98.87       567.7            0.2098   \n",
              "4  ...          16.67           152.20      1575.0            0.1374   \n",
              "\n",
              "   compactness_worst  concavity_worst  concave points_worst  symmetry_worst  \\\n",
              "0             0.6656           0.7119                0.2654          0.4601   \n",
              "1             0.1866           0.2416                0.1860          0.2750   \n",
              "2             0.4245           0.4504                0.2430          0.3613   \n",
              "3             0.8663           0.6869                0.2575          0.6638   \n",
              "4             0.2050           0.4000                0.1625          0.2364   \n",
              "\n",
              "   fractal_dimension_worst  Unnamed: 32  \n",
              "0                  0.11890          NaN  \n",
              "1                  0.08902          NaN  \n",
              "2                  0.08758          NaN  \n",
              "3                  0.17300          NaN  \n",
              "4                  0.07678          NaN  \n",
              "\n",
              "[5 rows x 33 columns]"
            ],
            "text/html": [
              "\n",
              "  <div id=\"df-45e8f1d8-b998-4b5c-a103-af5f2f3bd8b3\" class=\"colab-df-container\">\n",
              "    <div>\n",
              "<style scoped>\n",
              "    .dataframe tbody tr th:only-of-type {\n",
              "        vertical-align: middle;\n",
              "    }\n",
              "\n",
              "    .dataframe tbody tr th {\n",
              "        vertical-align: top;\n",
              "    }\n",
              "\n",
              "    .dataframe thead th {\n",
              "        text-align: right;\n",
              "    }\n",
              "</style>\n",
              "<table border=\"1\" class=\"dataframe\">\n",
              "  <thead>\n",
              "    <tr style=\"text-align: right;\">\n",
              "      <th></th>\n",
              "      <th>id</th>\n",
              "      <th>diagnosis</th>\n",
              "      <th>radius_mean</th>\n",
              "      <th>texture_mean</th>\n",
              "      <th>perimeter_mean</th>\n",
              "      <th>area_mean</th>\n",
              "      <th>smoothness_mean</th>\n",
              "      <th>compactness_mean</th>\n",
              "      <th>concavity_mean</th>\n",
              "      <th>concave points_mean</th>\n",
              "      <th>...</th>\n",
              "      <th>texture_worst</th>\n",
              "      <th>perimeter_worst</th>\n",
              "      <th>area_worst</th>\n",
              "      <th>smoothness_worst</th>\n",
              "      <th>compactness_worst</th>\n",
              "      <th>concavity_worst</th>\n",
              "      <th>concave points_worst</th>\n",
              "      <th>symmetry_worst</th>\n",
              "      <th>fractal_dimension_worst</th>\n",
              "      <th>Unnamed: 32</th>\n",
              "    </tr>\n",
              "  </thead>\n",
              "  <tbody>\n",
              "    <tr>\n",
              "      <th>0</th>\n",
              "      <td>842302</td>\n",
              "      <td>M</td>\n",
              "      <td>17.99</td>\n",
              "      <td>10.38</td>\n",
              "      <td>122.80</td>\n",
              "      <td>1001.0</td>\n",
              "      <td>0.11840</td>\n",
              "      <td>0.27760</td>\n",
              "      <td>0.3001</td>\n",
              "      <td>0.14710</td>\n",
              "      <td>...</td>\n",
              "      <td>17.33</td>\n",
              "      <td>184.60</td>\n",
              "      <td>2019.0</td>\n",
              "      <td>0.1622</td>\n",
              "      <td>0.6656</td>\n",
              "      <td>0.7119</td>\n",
              "      <td>0.2654</td>\n",
              "      <td>0.4601</td>\n",
              "      <td>0.11890</td>\n",
              "      <td>NaN</td>\n",
              "    </tr>\n",
              "    <tr>\n",
              "      <th>1</th>\n",
              "      <td>842517</td>\n",
              "      <td>M</td>\n",
              "      <td>20.57</td>\n",
              "      <td>17.77</td>\n",
              "      <td>132.90</td>\n",
              "      <td>1326.0</td>\n",
              "      <td>0.08474</td>\n",
              "      <td>0.07864</td>\n",
              "      <td>0.0869</td>\n",
              "      <td>0.07017</td>\n",
              "      <td>...</td>\n",
              "      <td>23.41</td>\n",
              "      <td>158.80</td>\n",
              "      <td>1956.0</td>\n",
              "      <td>0.1238</td>\n",
              "      <td>0.1866</td>\n",
              "      <td>0.2416</td>\n",
              "      <td>0.1860</td>\n",
              "      <td>0.2750</td>\n",
              "      <td>0.08902</td>\n",
              "      <td>NaN</td>\n",
              "    </tr>\n",
              "    <tr>\n",
              "      <th>2</th>\n",
              "      <td>84300903</td>\n",
              "      <td>M</td>\n",
              "      <td>19.69</td>\n",
              "      <td>21.25</td>\n",
              "      <td>130.00</td>\n",
              "      <td>1203.0</td>\n",
              "      <td>0.10960</td>\n",
              "      <td>0.15990</td>\n",
              "      <td>0.1974</td>\n",
              "      <td>0.12790</td>\n",
              "      <td>...</td>\n",
              "      <td>25.53</td>\n",
              "      <td>152.50</td>\n",
              "      <td>1709.0</td>\n",
              "      <td>0.1444</td>\n",
              "      <td>0.4245</td>\n",
              "      <td>0.4504</td>\n",
              "      <td>0.2430</td>\n",
              "      <td>0.3613</td>\n",
              "      <td>0.08758</td>\n",
              "      <td>NaN</td>\n",
              "    </tr>\n",
              "    <tr>\n",
              "      <th>3</th>\n",
              "      <td>84348301</td>\n",
              "      <td>M</td>\n",
              "      <td>11.42</td>\n",
              "      <td>20.38</td>\n",
              "      <td>77.58</td>\n",
              "      <td>386.1</td>\n",
              "      <td>0.14250</td>\n",
              "      <td>0.28390</td>\n",
              "      <td>0.2414</td>\n",
              "      <td>0.10520</td>\n",
              "      <td>...</td>\n",
              "      <td>26.50</td>\n",
              "      <td>98.87</td>\n",
              "      <td>567.7</td>\n",
              "      <td>0.2098</td>\n",
              "      <td>0.8663</td>\n",
              "      <td>0.6869</td>\n",
              "      <td>0.2575</td>\n",
              "      <td>0.6638</td>\n",
              "      <td>0.17300</td>\n",
              "      <td>NaN</td>\n",
              "    </tr>\n",
              "    <tr>\n",
              "      <th>4</th>\n",
              "      <td>84358402</td>\n",
              "      <td>M</td>\n",
              "      <td>20.29</td>\n",
              "      <td>14.34</td>\n",
              "      <td>135.10</td>\n",
              "      <td>1297.0</td>\n",
              "      <td>0.10030</td>\n",
              "      <td>0.13280</td>\n",
              "      <td>0.1980</td>\n",
              "      <td>0.10430</td>\n",
              "      <td>...</td>\n",
              "      <td>16.67</td>\n",
              "      <td>152.20</td>\n",
              "      <td>1575.0</td>\n",
              "      <td>0.1374</td>\n",
              "      <td>0.2050</td>\n",
              "      <td>0.4000</td>\n",
              "      <td>0.1625</td>\n",
              "      <td>0.2364</td>\n",
              "      <td>0.07678</td>\n",
              "      <td>NaN</td>\n",
              "    </tr>\n",
              "  </tbody>\n",
              "</table>\n",
              "<p>5 rows × 33 columns</p>\n",
              "</div>\n",
              "    <div class=\"colab-df-buttons\">\n",
              "\n",
              "  <div class=\"colab-df-container\">\n",
              "    <button class=\"colab-df-convert\" onclick=\"convertToInteractive('df-45e8f1d8-b998-4b5c-a103-af5f2f3bd8b3')\"\n",
              "            title=\"Convert this dataframe to an interactive table.\"\n",
              "            style=\"display:none;\">\n",
              "\n",
              "  <svg xmlns=\"http://www.w3.org/2000/svg\" height=\"24px\" viewBox=\"0 -960 960 960\">\n",
              "    <path d=\"M120-120v-720h720v720H120Zm60-500h600v-160H180v160Zm220 220h160v-160H400v160Zm0 220h160v-160H400v160ZM180-400h160v-160H180v160Zm440 0h160v-160H620v160ZM180-180h160v-160H180v160Zm440 0h160v-160H620v160Z\"/>\n",
              "  </svg>\n",
              "    </button>\n",
              "\n",
              "  <style>\n",
              "    .colab-df-container {\n",
              "      display:flex;\n",
              "      gap: 12px;\n",
              "    }\n",
              "\n",
              "    .colab-df-convert {\n",
              "      background-color: #E8F0FE;\n",
              "      border: none;\n",
              "      border-radius: 50%;\n",
              "      cursor: pointer;\n",
              "      display: none;\n",
              "      fill: #1967D2;\n",
              "      height: 32px;\n",
              "      padding: 0 0 0 0;\n",
              "      width: 32px;\n",
              "    }\n",
              "\n",
              "    .colab-df-convert:hover {\n",
              "      background-color: #E2EBFA;\n",
              "      box-shadow: 0px 1px 2px rgba(60, 64, 67, 0.3), 0px 1px 3px 1px rgba(60, 64, 67, 0.15);\n",
              "      fill: #174EA6;\n",
              "    }\n",
              "\n",
              "    .colab-df-buttons div {\n",
              "      margin-bottom: 4px;\n",
              "    }\n",
              "\n",
              "    [theme=dark] .colab-df-convert {\n",
              "      background-color: #3B4455;\n",
              "      fill: #D2E3FC;\n",
              "    }\n",
              "\n",
              "    [theme=dark] .colab-df-convert:hover {\n",
              "      background-color: #434B5C;\n",
              "      box-shadow: 0px 1px 3px 1px rgba(0, 0, 0, 0.15);\n",
              "      filter: drop-shadow(0px 1px 2px rgba(0, 0, 0, 0.3));\n",
              "      fill: #FFFFFF;\n",
              "    }\n",
              "  </style>\n",
              "\n",
              "    <script>\n",
              "      const buttonEl =\n",
              "        document.querySelector('#df-45e8f1d8-b998-4b5c-a103-af5f2f3bd8b3 button.colab-df-convert');\n",
              "      buttonEl.style.display =\n",
              "        google.colab.kernel.accessAllowed ? 'block' : 'none';\n",
              "\n",
              "      async function convertToInteractive(key) {\n",
              "        const element = document.querySelector('#df-45e8f1d8-b998-4b5c-a103-af5f2f3bd8b3');\n",
              "        const dataTable =\n",
              "          await google.colab.kernel.invokeFunction('convertToInteractive',\n",
              "                                                    [key], {});\n",
              "        if (!dataTable) return;\n",
              "\n",
              "        const docLinkHtml = 'Like what you see? Visit the ' +\n",
              "          '<a target=\"_blank\" href=https://colab.research.google.com/notebooks/data_table.ipynb>data table notebook</a>'\n",
              "          + ' to learn more about interactive tables.';\n",
              "        element.innerHTML = '';\n",
              "        dataTable['output_type'] = 'display_data';\n",
              "        await google.colab.output.renderOutput(dataTable, element);\n",
              "        const docLink = document.createElement('div');\n",
              "        docLink.innerHTML = docLinkHtml;\n",
              "        element.appendChild(docLink);\n",
              "      }\n",
              "    </script>\n",
              "  </div>\n",
              "\n",
              "\n",
              "<div id=\"df-306a4e57-fc2c-4815-8660-5d6f9630de4c\">\n",
              "  <button class=\"colab-df-quickchart\" onclick=\"quickchart('df-306a4e57-fc2c-4815-8660-5d6f9630de4c')\"\n",
              "            title=\"Suggest charts\"\n",
              "            style=\"display:none;\">\n",
              "\n",
              "<svg xmlns=\"http://www.w3.org/2000/svg\" height=\"24px\"viewBox=\"0 0 24 24\"\n",
              "     width=\"24px\">\n",
              "    <g>\n",
              "        <path d=\"M19 3H5c-1.1 0-2 .9-2 2v14c0 1.1.9 2 2 2h14c1.1 0 2-.9 2-2V5c0-1.1-.9-2-2-2zM9 17H7v-7h2v7zm4 0h-2V7h2v10zm4 0h-2v-4h2v4z\"/>\n",
              "    </g>\n",
              "</svg>\n",
              "  </button>\n",
              "\n",
              "<style>\n",
              "  .colab-df-quickchart {\n",
              "      --bg-color: #E8F0FE;\n",
              "      --fill-color: #1967D2;\n",
              "      --hover-bg-color: #E2EBFA;\n",
              "      --hover-fill-color: #174EA6;\n",
              "      --disabled-fill-color: #AAA;\n",
              "      --disabled-bg-color: #DDD;\n",
              "  }\n",
              "\n",
              "  [theme=dark] .colab-df-quickchart {\n",
              "      --bg-color: #3B4455;\n",
              "      --fill-color: #D2E3FC;\n",
              "      --hover-bg-color: #434B5C;\n",
              "      --hover-fill-color: #FFFFFF;\n",
              "      --disabled-bg-color: #3B4455;\n",
              "      --disabled-fill-color: #666;\n",
              "  }\n",
              "\n",
              "  .colab-df-quickchart {\n",
              "    background-color: var(--bg-color);\n",
              "    border: none;\n",
              "    border-radius: 50%;\n",
              "    cursor: pointer;\n",
              "    display: none;\n",
              "    fill: var(--fill-color);\n",
              "    height: 32px;\n",
              "    padding: 0;\n",
              "    width: 32px;\n",
              "  }\n",
              "\n",
              "  .colab-df-quickchart:hover {\n",
              "    background-color: var(--hover-bg-color);\n",
              "    box-shadow: 0 1px 2px rgba(60, 64, 67, 0.3), 0 1px 3px 1px rgba(60, 64, 67, 0.15);\n",
              "    fill: var(--button-hover-fill-color);\n",
              "  }\n",
              "\n",
              "  .colab-df-quickchart-complete:disabled,\n",
              "  .colab-df-quickchart-complete:disabled:hover {\n",
              "    background-color: var(--disabled-bg-color);\n",
              "    fill: var(--disabled-fill-color);\n",
              "    box-shadow: none;\n",
              "  }\n",
              "\n",
              "  .colab-df-spinner {\n",
              "    border: 2px solid var(--fill-color);\n",
              "    border-color: transparent;\n",
              "    border-bottom-color: var(--fill-color);\n",
              "    animation:\n",
              "      spin 1s steps(1) infinite;\n",
              "  }\n",
              "\n",
              "  @keyframes spin {\n",
              "    0% {\n",
              "      border-color: transparent;\n",
              "      border-bottom-color: var(--fill-color);\n",
              "      border-left-color: var(--fill-color);\n",
              "    }\n",
              "    20% {\n",
              "      border-color: transparent;\n",
              "      border-left-color: var(--fill-color);\n",
              "      border-top-color: var(--fill-color);\n",
              "    }\n",
              "    30% {\n",
              "      border-color: transparent;\n",
              "      border-left-color: var(--fill-color);\n",
              "      border-top-color: var(--fill-color);\n",
              "      border-right-color: var(--fill-color);\n",
              "    }\n",
              "    40% {\n",
              "      border-color: transparent;\n",
              "      border-right-color: var(--fill-color);\n",
              "      border-top-color: var(--fill-color);\n",
              "    }\n",
              "    60% {\n",
              "      border-color: transparent;\n",
              "      border-right-color: var(--fill-color);\n",
              "    }\n",
              "    80% {\n",
              "      border-color: transparent;\n",
              "      border-right-color: var(--fill-color);\n",
              "      border-bottom-color: var(--fill-color);\n",
              "    }\n",
              "    90% {\n",
              "      border-color: transparent;\n",
              "      border-bottom-color: var(--fill-color);\n",
              "    }\n",
              "  }\n",
              "</style>\n",
              "\n",
              "  <script>\n",
              "    async function quickchart(key) {\n",
              "      const quickchartButtonEl =\n",
              "        document.querySelector('#' + key + ' button');\n",
              "      quickchartButtonEl.disabled = true;  // To prevent multiple clicks.\n",
              "      quickchartButtonEl.classList.add('colab-df-spinner');\n",
              "      try {\n",
              "        const charts = await google.colab.kernel.invokeFunction(\n",
              "            'suggestCharts', [key], {});\n",
              "      } catch (error) {\n",
              "        console.error('Error during call to suggestCharts:', error);\n",
              "      }\n",
              "      quickchartButtonEl.classList.remove('colab-df-spinner');\n",
              "      quickchartButtonEl.classList.add('colab-df-quickchart-complete');\n",
              "    }\n",
              "    (() => {\n",
              "      let quickchartButtonEl =\n",
              "        document.querySelector('#df-306a4e57-fc2c-4815-8660-5d6f9630de4c button');\n",
              "      quickchartButtonEl.style.display =\n",
              "        google.colab.kernel.accessAllowed ? 'block' : 'none';\n",
              "    })();\n",
              "  </script>\n",
              "</div>\n",
              "\n",
              "    </div>\n",
              "  </div>\n"
            ],
            "application/vnd.google.colaboratory.intrinsic+json": {
              "type": "dataframe",
              "variable_name": "df"
            }
          },
          "metadata": {},
          "execution_count": 32
        }
      ]
    },
    {
      "cell_type": "code",
      "source": [
        "df.shape"
      ],
      "metadata": {
        "colab": {
          "base_uri": "https://localhost:8080/"
        },
        "id": "9cOA48mLzDZk",
        "outputId": "edf41cde-fc24-4f7b-ab60-41e59428a2e5"
      },
      "execution_count": 33,
      "outputs": [
        {
          "output_type": "execute_result",
          "data": {
            "text/plain": [
              "(569, 33)"
            ]
          },
          "metadata": {},
          "execution_count": 33
        }
      ]
    },
    {
      "cell_type": "code",
      "source": [
        "df.drop(columns=['id', 'Unnamed: 32'], inplace= True)"
      ],
      "metadata": {
        "id": "WFPnIifyzDU0"
      },
      "execution_count": 34,
      "outputs": []
    },
    {
      "cell_type": "code",
      "source": [
        "df.head()"
      ],
      "metadata": {
        "colab": {
          "base_uri": "https://localhost:8080/",
          "height": 273
        },
        "id": "NsvXUTGxzDQt",
        "outputId": "ac5e1985-70d2-4d1f-c1e4-4b51d09e1e6e"
      },
      "execution_count": 35,
      "outputs": [
        {
          "output_type": "execute_result",
          "data": {
            "text/plain": [
              "  diagnosis  radius_mean  texture_mean  perimeter_mean  area_mean  \\\n",
              "0         M        17.99         10.38          122.80     1001.0   \n",
              "1         M        20.57         17.77          132.90     1326.0   \n",
              "2         M        19.69         21.25          130.00     1203.0   \n",
              "3         M        11.42         20.38           77.58      386.1   \n",
              "4         M        20.29         14.34          135.10     1297.0   \n",
              "\n",
              "   smoothness_mean  compactness_mean  concavity_mean  concave points_mean  \\\n",
              "0          0.11840           0.27760          0.3001              0.14710   \n",
              "1          0.08474           0.07864          0.0869              0.07017   \n",
              "2          0.10960           0.15990          0.1974              0.12790   \n",
              "3          0.14250           0.28390          0.2414              0.10520   \n",
              "4          0.10030           0.13280          0.1980              0.10430   \n",
              "\n",
              "   symmetry_mean  ...  radius_worst  texture_worst  perimeter_worst  \\\n",
              "0         0.2419  ...         25.38          17.33           184.60   \n",
              "1         0.1812  ...         24.99          23.41           158.80   \n",
              "2         0.2069  ...         23.57          25.53           152.50   \n",
              "3         0.2597  ...         14.91          26.50            98.87   \n",
              "4         0.1809  ...         22.54          16.67           152.20   \n",
              "\n",
              "   area_worst  smoothness_worst  compactness_worst  concavity_worst  \\\n",
              "0      2019.0            0.1622             0.6656           0.7119   \n",
              "1      1956.0            0.1238             0.1866           0.2416   \n",
              "2      1709.0            0.1444             0.4245           0.4504   \n",
              "3       567.7            0.2098             0.8663           0.6869   \n",
              "4      1575.0            0.1374             0.2050           0.4000   \n",
              "\n",
              "   concave points_worst  symmetry_worst  fractal_dimension_worst  \n",
              "0                0.2654          0.4601                  0.11890  \n",
              "1                0.1860          0.2750                  0.08902  \n",
              "2                0.2430          0.3613                  0.08758  \n",
              "3                0.2575          0.6638                  0.17300  \n",
              "4                0.1625          0.2364                  0.07678  \n",
              "\n",
              "[5 rows x 31 columns]"
            ],
            "text/html": [
              "\n",
              "  <div id=\"df-a4252d7a-4866-4c62-b387-914331a0ac83\" class=\"colab-df-container\">\n",
              "    <div>\n",
              "<style scoped>\n",
              "    .dataframe tbody tr th:only-of-type {\n",
              "        vertical-align: middle;\n",
              "    }\n",
              "\n",
              "    .dataframe tbody tr th {\n",
              "        vertical-align: top;\n",
              "    }\n",
              "\n",
              "    .dataframe thead th {\n",
              "        text-align: right;\n",
              "    }\n",
              "</style>\n",
              "<table border=\"1\" class=\"dataframe\">\n",
              "  <thead>\n",
              "    <tr style=\"text-align: right;\">\n",
              "      <th></th>\n",
              "      <th>diagnosis</th>\n",
              "      <th>radius_mean</th>\n",
              "      <th>texture_mean</th>\n",
              "      <th>perimeter_mean</th>\n",
              "      <th>area_mean</th>\n",
              "      <th>smoothness_mean</th>\n",
              "      <th>compactness_mean</th>\n",
              "      <th>concavity_mean</th>\n",
              "      <th>concave points_mean</th>\n",
              "      <th>symmetry_mean</th>\n",
              "      <th>...</th>\n",
              "      <th>radius_worst</th>\n",
              "      <th>texture_worst</th>\n",
              "      <th>perimeter_worst</th>\n",
              "      <th>area_worst</th>\n",
              "      <th>smoothness_worst</th>\n",
              "      <th>compactness_worst</th>\n",
              "      <th>concavity_worst</th>\n",
              "      <th>concave points_worst</th>\n",
              "      <th>symmetry_worst</th>\n",
              "      <th>fractal_dimension_worst</th>\n",
              "    </tr>\n",
              "  </thead>\n",
              "  <tbody>\n",
              "    <tr>\n",
              "      <th>0</th>\n",
              "      <td>M</td>\n",
              "      <td>17.99</td>\n",
              "      <td>10.38</td>\n",
              "      <td>122.80</td>\n",
              "      <td>1001.0</td>\n",
              "      <td>0.11840</td>\n",
              "      <td>0.27760</td>\n",
              "      <td>0.3001</td>\n",
              "      <td>0.14710</td>\n",
              "      <td>0.2419</td>\n",
              "      <td>...</td>\n",
              "      <td>25.38</td>\n",
              "      <td>17.33</td>\n",
              "      <td>184.60</td>\n",
              "      <td>2019.0</td>\n",
              "      <td>0.1622</td>\n",
              "      <td>0.6656</td>\n",
              "      <td>0.7119</td>\n",
              "      <td>0.2654</td>\n",
              "      <td>0.4601</td>\n",
              "      <td>0.11890</td>\n",
              "    </tr>\n",
              "    <tr>\n",
              "      <th>1</th>\n",
              "      <td>M</td>\n",
              "      <td>20.57</td>\n",
              "      <td>17.77</td>\n",
              "      <td>132.90</td>\n",
              "      <td>1326.0</td>\n",
              "      <td>0.08474</td>\n",
              "      <td>0.07864</td>\n",
              "      <td>0.0869</td>\n",
              "      <td>0.07017</td>\n",
              "      <td>0.1812</td>\n",
              "      <td>...</td>\n",
              "      <td>24.99</td>\n",
              "      <td>23.41</td>\n",
              "      <td>158.80</td>\n",
              "      <td>1956.0</td>\n",
              "      <td>0.1238</td>\n",
              "      <td>0.1866</td>\n",
              "      <td>0.2416</td>\n",
              "      <td>0.1860</td>\n",
              "      <td>0.2750</td>\n",
              "      <td>0.08902</td>\n",
              "    </tr>\n",
              "    <tr>\n",
              "      <th>2</th>\n",
              "      <td>M</td>\n",
              "      <td>19.69</td>\n",
              "      <td>21.25</td>\n",
              "      <td>130.00</td>\n",
              "      <td>1203.0</td>\n",
              "      <td>0.10960</td>\n",
              "      <td>0.15990</td>\n",
              "      <td>0.1974</td>\n",
              "      <td>0.12790</td>\n",
              "      <td>0.2069</td>\n",
              "      <td>...</td>\n",
              "      <td>23.57</td>\n",
              "      <td>25.53</td>\n",
              "      <td>152.50</td>\n",
              "      <td>1709.0</td>\n",
              "      <td>0.1444</td>\n",
              "      <td>0.4245</td>\n",
              "      <td>0.4504</td>\n",
              "      <td>0.2430</td>\n",
              "      <td>0.3613</td>\n",
              "      <td>0.08758</td>\n",
              "    </tr>\n",
              "    <tr>\n",
              "      <th>3</th>\n",
              "      <td>M</td>\n",
              "      <td>11.42</td>\n",
              "      <td>20.38</td>\n",
              "      <td>77.58</td>\n",
              "      <td>386.1</td>\n",
              "      <td>0.14250</td>\n",
              "      <td>0.28390</td>\n",
              "      <td>0.2414</td>\n",
              "      <td>0.10520</td>\n",
              "      <td>0.2597</td>\n",
              "      <td>...</td>\n",
              "      <td>14.91</td>\n",
              "      <td>26.50</td>\n",
              "      <td>98.87</td>\n",
              "      <td>567.7</td>\n",
              "      <td>0.2098</td>\n",
              "      <td>0.8663</td>\n",
              "      <td>0.6869</td>\n",
              "      <td>0.2575</td>\n",
              "      <td>0.6638</td>\n",
              "      <td>0.17300</td>\n",
              "    </tr>\n",
              "    <tr>\n",
              "      <th>4</th>\n",
              "      <td>M</td>\n",
              "      <td>20.29</td>\n",
              "      <td>14.34</td>\n",
              "      <td>135.10</td>\n",
              "      <td>1297.0</td>\n",
              "      <td>0.10030</td>\n",
              "      <td>0.13280</td>\n",
              "      <td>0.1980</td>\n",
              "      <td>0.10430</td>\n",
              "      <td>0.1809</td>\n",
              "      <td>...</td>\n",
              "      <td>22.54</td>\n",
              "      <td>16.67</td>\n",
              "      <td>152.20</td>\n",
              "      <td>1575.0</td>\n",
              "      <td>0.1374</td>\n",
              "      <td>0.2050</td>\n",
              "      <td>0.4000</td>\n",
              "      <td>0.1625</td>\n",
              "      <td>0.2364</td>\n",
              "      <td>0.07678</td>\n",
              "    </tr>\n",
              "  </tbody>\n",
              "</table>\n",
              "<p>5 rows × 31 columns</p>\n",
              "</div>\n",
              "    <div class=\"colab-df-buttons\">\n",
              "\n",
              "  <div class=\"colab-df-container\">\n",
              "    <button class=\"colab-df-convert\" onclick=\"convertToInteractive('df-a4252d7a-4866-4c62-b387-914331a0ac83')\"\n",
              "            title=\"Convert this dataframe to an interactive table.\"\n",
              "            style=\"display:none;\">\n",
              "\n",
              "  <svg xmlns=\"http://www.w3.org/2000/svg\" height=\"24px\" viewBox=\"0 -960 960 960\">\n",
              "    <path d=\"M120-120v-720h720v720H120Zm60-500h600v-160H180v160Zm220 220h160v-160H400v160Zm0 220h160v-160H400v160ZM180-400h160v-160H180v160Zm440 0h160v-160H620v160ZM180-180h160v-160H180v160Zm440 0h160v-160H620v160Z\"/>\n",
              "  </svg>\n",
              "    </button>\n",
              "\n",
              "  <style>\n",
              "    .colab-df-container {\n",
              "      display:flex;\n",
              "      gap: 12px;\n",
              "    }\n",
              "\n",
              "    .colab-df-convert {\n",
              "      background-color: #E8F0FE;\n",
              "      border: none;\n",
              "      border-radius: 50%;\n",
              "      cursor: pointer;\n",
              "      display: none;\n",
              "      fill: #1967D2;\n",
              "      height: 32px;\n",
              "      padding: 0 0 0 0;\n",
              "      width: 32px;\n",
              "    }\n",
              "\n",
              "    .colab-df-convert:hover {\n",
              "      background-color: #E2EBFA;\n",
              "      box-shadow: 0px 1px 2px rgba(60, 64, 67, 0.3), 0px 1px 3px 1px rgba(60, 64, 67, 0.15);\n",
              "      fill: #174EA6;\n",
              "    }\n",
              "\n",
              "    .colab-df-buttons div {\n",
              "      margin-bottom: 4px;\n",
              "    }\n",
              "\n",
              "    [theme=dark] .colab-df-convert {\n",
              "      background-color: #3B4455;\n",
              "      fill: #D2E3FC;\n",
              "    }\n",
              "\n",
              "    [theme=dark] .colab-df-convert:hover {\n",
              "      background-color: #434B5C;\n",
              "      box-shadow: 0px 1px 3px 1px rgba(0, 0, 0, 0.15);\n",
              "      filter: drop-shadow(0px 1px 2px rgba(0, 0, 0, 0.3));\n",
              "      fill: #FFFFFF;\n",
              "    }\n",
              "  </style>\n",
              "\n",
              "    <script>\n",
              "      const buttonEl =\n",
              "        document.querySelector('#df-a4252d7a-4866-4c62-b387-914331a0ac83 button.colab-df-convert');\n",
              "      buttonEl.style.display =\n",
              "        google.colab.kernel.accessAllowed ? 'block' : 'none';\n",
              "\n",
              "      async function convertToInteractive(key) {\n",
              "        const element = document.querySelector('#df-a4252d7a-4866-4c62-b387-914331a0ac83');\n",
              "        const dataTable =\n",
              "          await google.colab.kernel.invokeFunction('convertToInteractive',\n",
              "                                                    [key], {});\n",
              "        if (!dataTable) return;\n",
              "\n",
              "        const docLinkHtml = 'Like what you see? Visit the ' +\n",
              "          '<a target=\"_blank\" href=https://colab.research.google.com/notebooks/data_table.ipynb>data table notebook</a>'\n",
              "          + ' to learn more about interactive tables.';\n",
              "        element.innerHTML = '';\n",
              "        dataTable['output_type'] = 'display_data';\n",
              "        await google.colab.output.renderOutput(dataTable, element);\n",
              "        const docLink = document.createElement('div');\n",
              "        docLink.innerHTML = docLinkHtml;\n",
              "        element.appendChild(docLink);\n",
              "      }\n",
              "    </script>\n",
              "  </div>\n",
              "\n",
              "\n",
              "<div id=\"df-9a35e434-4c08-4363-b029-0b5d52470fdc\">\n",
              "  <button class=\"colab-df-quickchart\" onclick=\"quickchart('df-9a35e434-4c08-4363-b029-0b5d52470fdc')\"\n",
              "            title=\"Suggest charts\"\n",
              "            style=\"display:none;\">\n",
              "\n",
              "<svg xmlns=\"http://www.w3.org/2000/svg\" height=\"24px\"viewBox=\"0 0 24 24\"\n",
              "     width=\"24px\">\n",
              "    <g>\n",
              "        <path d=\"M19 3H5c-1.1 0-2 .9-2 2v14c0 1.1.9 2 2 2h14c1.1 0 2-.9 2-2V5c0-1.1-.9-2-2-2zM9 17H7v-7h2v7zm4 0h-2V7h2v10zm4 0h-2v-4h2v4z\"/>\n",
              "    </g>\n",
              "</svg>\n",
              "  </button>\n",
              "\n",
              "<style>\n",
              "  .colab-df-quickchart {\n",
              "      --bg-color: #E8F0FE;\n",
              "      --fill-color: #1967D2;\n",
              "      --hover-bg-color: #E2EBFA;\n",
              "      --hover-fill-color: #174EA6;\n",
              "      --disabled-fill-color: #AAA;\n",
              "      --disabled-bg-color: #DDD;\n",
              "  }\n",
              "\n",
              "  [theme=dark] .colab-df-quickchart {\n",
              "      --bg-color: #3B4455;\n",
              "      --fill-color: #D2E3FC;\n",
              "      --hover-bg-color: #434B5C;\n",
              "      --hover-fill-color: #FFFFFF;\n",
              "      --disabled-bg-color: #3B4455;\n",
              "      --disabled-fill-color: #666;\n",
              "  }\n",
              "\n",
              "  .colab-df-quickchart {\n",
              "    background-color: var(--bg-color);\n",
              "    border: none;\n",
              "    border-radius: 50%;\n",
              "    cursor: pointer;\n",
              "    display: none;\n",
              "    fill: var(--fill-color);\n",
              "    height: 32px;\n",
              "    padding: 0;\n",
              "    width: 32px;\n",
              "  }\n",
              "\n",
              "  .colab-df-quickchart:hover {\n",
              "    background-color: var(--hover-bg-color);\n",
              "    box-shadow: 0 1px 2px rgba(60, 64, 67, 0.3), 0 1px 3px 1px rgba(60, 64, 67, 0.15);\n",
              "    fill: var(--button-hover-fill-color);\n",
              "  }\n",
              "\n",
              "  .colab-df-quickchart-complete:disabled,\n",
              "  .colab-df-quickchart-complete:disabled:hover {\n",
              "    background-color: var(--disabled-bg-color);\n",
              "    fill: var(--disabled-fill-color);\n",
              "    box-shadow: none;\n",
              "  }\n",
              "\n",
              "  .colab-df-spinner {\n",
              "    border: 2px solid var(--fill-color);\n",
              "    border-color: transparent;\n",
              "    border-bottom-color: var(--fill-color);\n",
              "    animation:\n",
              "      spin 1s steps(1) infinite;\n",
              "  }\n",
              "\n",
              "  @keyframes spin {\n",
              "    0% {\n",
              "      border-color: transparent;\n",
              "      border-bottom-color: var(--fill-color);\n",
              "      border-left-color: var(--fill-color);\n",
              "    }\n",
              "    20% {\n",
              "      border-color: transparent;\n",
              "      border-left-color: var(--fill-color);\n",
              "      border-top-color: var(--fill-color);\n",
              "    }\n",
              "    30% {\n",
              "      border-color: transparent;\n",
              "      border-left-color: var(--fill-color);\n",
              "      border-top-color: var(--fill-color);\n",
              "      border-right-color: var(--fill-color);\n",
              "    }\n",
              "    40% {\n",
              "      border-color: transparent;\n",
              "      border-right-color: var(--fill-color);\n",
              "      border-top-color: var(--fill-color);\n",
              "    }\n",
              "    60% {\n",
              "      border-color: transparent;\n",
              "      border-right-color: var(--fill-color);\n",
              "    }\n",
              "    80% {\n",
              "      border-color: transparent;\n",
              "      border-right-color: var(--fill-color);\n",
              "      border-bottom-color: var(--fill-color);\n",
              "    }\n",
              "    90% {\n",
              "      border-color: transparent;\n",
              "      border-bottom-color: var(--fill-color);\n",
              "    }\n",
              "  }\n",
              "</style>\n",
              "\n",
              "  <script>\n",
              "    async function quickchart(key) {\n",
              "      const quickchartButtonEl =\n",
              "        document.querySelector('#' + key + ' button');\n",
              "      quickchartButtonEl.disabled = true;  // To prevent multiple clicks.\n",
              "      quickchartButtonEl.classList.add('colab-df-spinner');\n",
              "      try {\n",
              "        const charts = await google.colab.kernel.invokeFunction(\n",
              "            'suggestCharts', [key], {});\n",
              "      } catch (error) {\n",
              "        console.error('Error during call to suggestCharts:', error);\n",
              "      }\n",
              "      quickchartButtonEl.classList.remove('colab-df-spinner');\n",
              "      quickchartButtonEl.classList.add('colab-df-quickchart-complete');\n",
              "    }\n",
              "    (() => {\n",
              "      let quickchartButtonEl =\n",
              "        document.querySelector('#df-9a35e434-4c08-4363-b029-0b5d52470fdc button');\n",
              "      quickchartButtonEl.style.display =\n",
              "        google.colab.kernel.accessAllowed ? 'block' : 'none';\n",
              "    })();\n",
              "  </script>\n",
              "</div>\n",
              "\n",
              "    </div>\n",
              "  </div>\n"
            ],
            "application/vnd.google.colaboratory.intrinsic+json": {
              "type": "dataframe",
              "variable_name": "df"
            }
          },
          "metadata": {},
          "execution_count": 35
        }
      ]
    },
    {
      "cell_type": "code",
      "source": [
        "X_train, X_test, y_train, y_test = train_test_split(df.iloc[:, 1:], df.iloc[:, 0], test_size=0.2)"
      ],
      "metadata": {
        "id": "LTrB7QzrzDMo"
      },
      "execution_count": 36,
      "outputs": []
    },
    {
      "cell_type": "markdown",
      "source": [
        "# scaling"
      ],
      "metadata": {
        "id": "Q9pHrAAI3HD2"
      }
    },
    {
      "cell_type": "code",
      "source": [
        "scaler = StandardScaler()\n",
        "X_train = scaler.fit_transform(X_train)\n",
        "X_test = scaler.transform(X_test)"
      ],
      "metadata": {
        "id": "4yxTEu4czDH1"
      },
      "execution_count": 37,
      "outputs": []
    },
    {
      "cell_type": "code",
      "source": [
        "X_train"
      ],
      "metadata": {
        "colab": {
          "base_uri": "https://localhost:8080/"
        },
        "id": "9nzCXaXkzDDt",
        "outputId": "ad5274a7-fa7f-486d-9783-b003374ad190"
      },
      "execution_count": 38,
      "outputs": [
        {
          "output_type": "execute_result",
          "data": {
            "text/plain": [
              "array([[-1.22833559, -0.31251905, -1.15607997, ..., -0.26809477,\n",
              "        -0.44806211,  1.73269911],\n",
              "       [-0.9025944 , -1.02476353, -0.87471114, ..., -0.14106638,\n",
              "         0.61911579,  0.35776581],\n",
              "       [ 1.50101486,  1.28198958,  1.4207522 , ...,  0.4502205 ,\n",
              "        -0.94669983, -1.26021673],\n",
              "       ...,\n",
              "       [ 1.75180176,  0.46865233,  1.61677113, ...,  0.41846341,\n",
              "        -1.03213619, -0.69941716],\n",
              "       [ 0.86982087,  0.83626239,  0.73876967, ..., -0.52139542,\n",
              "        -0.69971105, -1.0307003 ],\n",
              "       [-0.6518075 , -1.02476353, -0.64030517, ..., -1.0459924 ,\n",
              "         0.34416603, -0.44878956]])"
            ]
          },
          "metadata": {},
          "execution_count": 38
        }
      ]
    },
    {
      "cell_type": "code",
      "source": [
        "y_train"
      ],
      "metadata": {
        "colab": {
          "base_uri": "https://localhost:8080/",
          "height": 458
        },
        "id": "nhRK85dhzC_v",
        "outputId": "40164f41-fb1a-43cd-d63e-1abd7611376f"
      },
      "execution_count": 39,
      "outputs": [
        {
          "output_type": "execute_result",
          "data": {
            "text/plain": [
              "176    B\n",
              "342    B\n",
              "451    M\n",
              "233    M\n",
              "96     B\n",
              "      ..\n",
              "107    B\n",
              "332    B\n",
              "237    M\n",
              "261    M\n",
              "349    B\n",
              "Name: diagnosis, Length: 455, dtype: object"
            ],
            "text/html": [
              "<div>\n",
              "<style scoped>\n",
              "    .dataframe tbody tr th:only-of-type {\n",
              "        vertical-align: middle;\n",
              "    }\n",
              "\n",
              "    .dataframe tbody tr th {\n",
              "        vertical-align: top;\n",
              "    }\n",
              "\n",
              "    .dataframe thead th {\n",
              "        text-align: right;\n",
              "    }\n",
              "</style>\n",
              "<table border=\"1\" class=\"dataframe\">\n",
              "  <thead>\n",
              "    <tr style=\"text-align: right;\">\n",
              "      <th></th>\n",
              "      <th>diagnosis</th>\n",
              "    </tr>\n",
              "  </thead>\n",
              "  <tbody>\n",
              "    <tr>\n",
              "      <th>176</th>\n",
              "      <td>B</td>\n",
              "    </tr>\n",
              "    <tr>\n",
              "      <th>342</th>\n",
              "      <td>B</td>\n",
              "    </tr>\n",
              "    <tr>\n",
              "      <th>451</th>\n",
              "      <td>M</td>\n",
              "    </tr>\n",
              "    <tr>\n",
              "      <th>233</th>\n",
              "      <td>M</td>\n",
              "    </tr>\n",
              "    <tr>\n",
              "      <th>96</th>\n",
              "      <td>B</td>\n",
              "    </tr>\n",
              "    <tr>\n",
              "      <th>...</th>\n",
              "      <td>...</td>\n",
              "    </tr>\n",
              "    <tr>\n",
              "      <th>107</th>\n",
              "      <td>B</td>\n",
              "    </tr>\n",
              "    <tr>\n",
              "      <th>332</th>\n",
              "      <td>B</td>\n",
              "    </tr>\n",
              "    <tr>\n",
              "      <th>237</th>\n",
              "      <td>M</td>\n",
              "    </tr>\n",
              "    <tr>\n",
              "      <th>261</th>\n",
              "      <td>M</td>\n",
              "    </tr>\n",
              "    <tr>\n",
              "      <th>349</th>\n",
              "      <td>B</td>\n",
              "    </tr>\n",
              "  </tbody>\n",
              "</table>\n",
              "<p>455 rows × 1 columns</p>\n",
              "</div><br><label><b>dtype:</b> object</label>"
            ]
          },
          "metadata": {},
          "execution_count": 39
        }
      ]
    },
    {
      "cell_type": "markdown",
      "source": [
        "# Label Encoding"
      ],
      "metadata": {
        "id": "28ZqED083UK5"
      }
    },
    {
      "cell_type": "code",
      "source": [
        "encoder = LabelEncoder()\n",
        "y_train = encoder.fit_transform(y_train)\n",
        "y_test = encoder.transform(y_test)"
      ],
      "metadata": {
        "id": "UwdOe20GzC8E"
      },
      "execution_count": 40,
      "outputs": []
    },
    {
      "cell_type": "code",
      "source": [
        "y_train"
      ],
      "metadata": {
        "colab": {
          "base_uri": "https://localhost:8080/"
        },
        "id": "fpru6FTuzC32",
        "outputId": "b4cd4fb4-2ec8-4222-d41f-5a6b700b754f"
      },
      "execution_count": 41,
      "outputs": [
        {
          "output_type": "execute_result",
          "data": {
            "text/plain": [
              "array([0, 0, 1, 1, 0, 1, 0, 0, 1, 0, 1, 0, 0, 0, 0, 1, 0, 0, 1, 0, 0, 1,\n",
              "       0, 1, 0, 0, 1, 0, 1, 0, 1, 1, 1, 0, 0, 0, 1, 0, 1, 1, 1, 0, 0, 1,\n",
              "       0, 1, 0, 0, 0, 0, 0, 0, 0, 1, 0, 1, 0, 1, 0, 0, 0, 1, 1, 0, 1, 0,\n",
              "       0, 0, 1, 1, 0, 0, 0, 0, 1, 1, 1, 0, 0, 0, 0, 1, 0, 0, 0, 0, 0, 0,\n",
              "       1, 1, 0, 0, 0, 0, 0, 0, 0, 0, 1, 1, 1, 1, 0, 0, 1, 1, 0, 0, 0, 1,\n",
              "       1, 0, 1, 0, 0, 0, 0, 0, 1, 0, 0, 0, 1, 0, 1, 1, 0, 0, 0, 0, 0, 0,\n",
              "       1, 0, 0, 1, 0, 0, 0, 0, 0, 0, 0, 1, 1, 1, 1, 1, 0, 1, 1, 1, 0, 1,\n",
              "       0, 0, 0, 1, 1, 0, 0, 1, 1, 1, 0, 1, 0, 0, 0, 1, 0, 0, 0, 1, 0, 0,\n",
              "       0, 0, 0, 0, 0, 0, 1, 1, 0, 0, 1, 0, 0, 0, 0, 0, 0, 0, 0, 1, 0, 1,\n",
              "       0, 0, 0, 0, 1, 1, 0, 0, 1, 0, 0, 1, 0, 1, 1, 1, 1, 0, 0, 0, 1, 0,\n",
              "       0, 0, 1, 1, 1, 0, 0, 1, 0, 0, 0, 0, 0, 0, 0, 0, 1, 1, 0, 1, 1, 1,\n",
              "       0, 1, 0, 0, 0, 1, 1, 0, 1, 0, 0, 0, 1, 0, 0, 0, 0, 1, 0, 0, 1, 0,\n",
              "       1, 1, 0, 0, 0, 0, 1, 0, 1, 1, 1, 1, 0, 0, 0, 0, 1, 0, 0, 0, 0, 0,\n",
              "       0, 0, 0, 1, 1, 0, 1, 0, 0, 0, 1, 0, 1, 0, 0, 1, 0, 0, 1, 1, 1, 1,\n",
              "       0, 0, 0, 1, 1, 1, 0, 0, 1, 0, 0, 1, 0, 0, 1, 0, 1, 0, 0, 1, 0, 0,\n",
              "       0, 0, 1, 1, 0, 0, 1, 1, 0, 1, 0, 0, 0, 0, 1, 0, 1, 1, 0, 1, 0, 1,\n",
              "       0, 1, 0, 0, 1, 0, 0, 1, 0, 1, 0, 0, 1, 1, 0, 1, 0, 1, 1, 1, 0, 0,\n",
              "       1, 1, 0, 0, 0, 1, 1, 0, 0, 0, 1, 0, 1, 0, 1, 0, 0, 1, 0, 1, 0, 1,\n",
              "       0, 1, 0, 1, 0, 0, 1, 1, 1, 0, 0, 1, 0, 0, 0, 0, 1, 0, 0, 1, 0, 1,\n",
              "       0, 0, 1, 1, 1, 1, 0, 0, 0, 0, 0, 0, 0, 0, 0, 1, 0, 1, 1, 0, 0, 1,\n",
              "       1, 1, 0, 1, 1, 0, 1, 0, 0, 0, 0, 0, 1, 1, 0])"
            ]
          },
          "metadata": {},
          "execution_count": 41
        }
      ]
    },
    {
      "cell_type": "markdown",
      "source": [
        "# Numpy arrays to PyTorch tensors"
      ],
      "metadata": {
        "id": "6TErMv3f3dZq"
      }
    },
    {
      "cell_type": "code",
      "source": [
        "X_train_tensor = torch.from_numpy(X_train.astype(np.float32))\n",
        "X_test_tensor = torch.from_numpy(X_test.astype(np.float32))\n",
        "y_train_tensor = torch.from_numpy(y_train.astype(np.float32))\n",
        "y_test_tensor = torch.from_numpy(y_test.astype(np.float32))"
      ],
      "metadata": {
        "id": "YhyDzVcn2yzN"
      },
      "execution_count": 42,
      "outputs": []
    },
    {
      "cell_type": "code",
      "source": [
        "X_train_tensor.shape"
      ],
      "metadata": {
        "colab": {
          "base_uri": "https://localhost:8080/"
        },
        "id": "swC-n26t2yv5",
        "outputId": "80406293-ac44-47f4-b884-fbf6aa60c686"
      },
      "execution_count": 43,
      "outputs": [
        {
          "output_type": "execute_result",
          "data": {
            "text/plain": [
              "torch.Size([455, 30])"
            ]
          },
          "metadata": {},
          "execution_count": 43
        }
      ]
    },
    {
      "cell_type": "code",
      "source": [
        "y_train_tensor.shape"
      ],
      "metadata": {
        "colab": {
          "base_uri": "https://localhost:8080/"
        },
        "id": "i0oreSRC2ysL",
        "outputId": "d1a176a3-cfa6-48e7-e05b-99fda8b337f4"
      },
      "execution_count": 44,
      "outputs": [
        {
          "output_type": "execute_result",
          "data": {
            "text/plain": [
              "torch.Size([455])"
            ]
          },
          "metadata": {},
          "execution_count": 44
        }
      ]
    },
    {
      "cell_type": "code",
      "source": [],
      "metadata": {
        "id": "eFf9lo5-3mj5"
      },
      "execution_count": null,
      "outputs": []
    },
    {
      "cell_type": "markdown",
      "source": [
        "# Defining the model"
      ],
      "metadata": {
        "id": "9P11I6el33zV"
      }
    },
    {
      "cell_type": "code",
      "source": [
        "import torch.nn as nn\n",
        "\n",
        "class MySimpleNN(nn.Module):\n",
        "    def __init__(self, num_features):\n",
        "\n",
        "        super().__init__()\n",
        "        self.linear = nn.Linear(num_features, 1)\n",
        "        self.sigmoid = nn.Sigmoid()\n",
        "\n",
        "    def forward(self, features):\n",
        "        out = self.linear(features)\n",
        "        out = self.sigmoid(out)\n",
        "        return out\n"
      ],
      "metadata": {
        "id": "I8-XSMYn3sI0"
      },
      "execution_count": 51,
      "outputs": []
    },
    {
      "cell_type": "markdown",
      "source": [
        "# Important Parameters"
      ],
      "metadata": {
        "id": "yr9CEfjL5iH1"
      }
    },
    {
      "cell_type": "code",
      "source": [
        "learning_rate = 0.1\n",
        "epochs = 200"
      ],
      "metadata": {
        "id": "pu1EkbLx3sFS"
      },
      "execution_count": 61,
      "outputs": []
    },
    {
      "cell_type": "code",
      "source": [
        "# define loss function\n",
        "loss_function = nn.BCELoss()"
      ],
      "metadata": {
        "id": "DeYaAXiu3sB6"
      },
      "execution_count": 62,
      "outputs": []
    },
    {
      "cell_type": "markdown",
      "source": [
        "# Training Pipeline"
      ],
      "metadata": {
        "id": "GzRDgSbZ8QxO"
      }
    },
    {
      "cell_type": "code",
      "source": [
        "# create model\n",
        "model = MySimpleNN(X_train_tensor.shape[1])\n",
        "\n",
        "# define optimizer\n",
        "optimizer = torch.optim.SGD(model.parameters(), lr=learning_rate)\n",
        "\n",
        "# define loop\n",
        "for epoch in range(epochs):\n",
        "\n",
        "  # forward pass\n",
        "  y_pred = model(X_train_tensor)\n",
        "\n",
        "  # loss calculate\n",
        "  loss = loss_function(y_pred, y_train_tensor.view(-1,1))\n",
        "\n",
        "  # clear gradients\n",
        "  optimizer.zero_grad()\n",
        "\n",
        "  # backward pass\n",
        "  loss.backward()\n",
        "\n",
        "  # parameters update\n",
        "  optimizer.step()\n",
        "\n",
        "  # print loss in each epoch\n",
        "  print(f'Epoch: {epoch + 1}, Loss: {loss.item()}')"
      ],
      "metadata": {
        "colab": {
          "base_uri": "https://localhost:8080/"
        },
        "id": "kt61Nlsi3r-b",
        "outputId": "1a994d39-c8bf-448e-8f69-9fe9343a52af"
      },
      "execution_count": 63,
      "outputs": [
        {
          "output_type": "stream",
          "name": "stdout",
          "text": [
            "Epoch: 1, Loss: 0.7900774478912354\n",
            "Epoch: 2, Loss: 0.5900514125823975\n",
            "Epoch: 3, Loss: 0.48187899589538574\n",
            "Epoch: 4, Loss: 0.4151653051376343\n",
            "Epoch: 5, Loss: 0.36949047446250916\n",
            "Epoch: 6, Loss: 0.3359454572200775\n",
            "Epoch: 7, Loss: 0.31007635593414307\n",
            "Epoch: 8, Loss: 0.2894035875797272\n",
            "Epoch: 9, Loss: 0.27243098616600037\n",
            "Epoch: 10, Loss: 0.25819817185401917\n",
            "Epoch: 11, Loss: 0.24605782330036163\n",
            "Epoch: 12, Loss: 0.23555651307106018\n",
            "Epoch: 13, Loss: 0.2263661026954651\n",
            "Epoch: 14, Loss: 0.21824276447296143\n",
            "Epoch: 15, Loss: 0.21100112795829773\n",
            "Epoch: 16, Loss: 0.20449768006801605\n",
            "Epoch: 17, Loss: 0.19861923158168793\n",
            "Epoch: 18, Loss: 0.19327540695667267\n",
            "Epoch: 19, Loss: 0.18839280307292938\n",
            "Epoch: 20, Loss: 0.18391139805316925\n",
            "Epoch: 21, Loss: 0.17978142201900482\n",
            "Epoch: 22, Loss: 0.17596116662025452\n",
            "Epoch: 23, Loss: 0.1724155694246292\n",
            "Epoch: 24, Loss: 0.16911470890045166\n",
            "Epoch: 25, Loss: 0.16603298485279083\n",
            "Epoch: 26, Loss: 0.16314831376075745\n",
            "Epoch: 27, Loss: 0.1604415774345398\n",
            "Epoch: 28, Loss: 0.15789595246315002\n",
            "Epoch: 29, Loss: 0.15549683570861816\n",
            "Epoch: 30, Loss: 0.15323129296302795\n",
            "Epoch: 31, Loss: 0.1510878950357437\n",
            "Epoch: 32, Loss: 0.14905644953250885\n",
            "Epoch: 33, Loss: 0.14712795615196228\n",
            "Epoch: 34, Loss: 0.14529427886009216\n",
            "Epoch: 35, Loss: 0.1435481458902359\n",
            "Epoch: 36, Loss: 0.1418830305337906\n",
            "Epoch: 37, Loss: 0.14029300212860107\n",
            "Epoch: 38, Loss: 0.13877275586128235\n",
            "Epoch: 39, Loss: 0.1373174488544464\n",
            "Epoch: 40, Loss: 0.1359226405620575\n",
            "Epoch: 41, Loss: 0.13458438217639923\n",
            "Epoch: 42, Loss: 0.13329900801181793\n",
            "Epoch: 43, Loss: 0.1320631206035614\n",
            "Epoch: 44, Loss: 0.13087372481822968\n",
            "Epoch: 45, Loss: 0.12972797453403473\n",
            "Epoch: 46, Loss: 0.12862330675125122\n",
            "Epoch: 47, Loss: 0.12755729258060455\n",
            "Epoch: 48, Loss: 0.1265277862548828\n",
            "Epoch: 49, Loss: 0.12553273141384125\n",
            "Epoch: 50, Loss: 0.12457027286291122\n",
            "Epoch: 51, Loss: 0.12363863736391068\n",
            "Epoch: 52, Loss: 0.12273626029491425\n",
            "Epoch: 53, Loss: 0.12186158448457718\n",
            "Epoch: 54, Loss: 0.12101324647665024\n",
            "Epoch: 55, Loss: 0.12018992751836777\n",
            "Epoch: 56, Loss: 0.11939042806625366\n",
            "Epoch: 57, Loss: 0.118613600730896\n",
            "Epoch: 58, Loss: 0.1178584098815918\n",
            "Epoch: 59, Loss: 0.1171238124370575\n",
            "Epoch: 60, Loss: 0.11640894412994385\n",
            "Epoch: 61, Loss: 0.11571284383535385\n",
            "Epoch: 62, Loss: 0.1150347888469696\n",
            "Epoch: 63, Loss: 0.11437394469976425\n",
            "Epoch: 64, Loss: 0.11372960358858109\n",
            "Epoch: 65, Loss: 0.113101065158844\n",
            "Epoch: 66, Loss: 0.11248770356178284\n",
            "Epoch: 67, Loss: 0.11188888549804688\n",
            "Epoch: 68, Loss: 0.11130405962467194\n",
            "Epoch: 69, Loss: 0.11073268204927444\n",
            "Epoch: 70, Loss: 0.11017420887947083\n",
            "Epoch: 71, Loss: 0.10962818562984467\n",
            "Epoch: 72, Loss: 0.10909412801265717\n",
            "Epoch: 73, Loss: 0.1085716113448143\n",
            "Epoch: 74, Loss: 0.10806019604206085\n",
            "Epoch: 75, Loss: 0.10755950957536697\n",
            "Epoch: 76, Loss: 0.10706916451454163\n",
            "Epoch: 77, Loss: 0.10658879578113556\n",
            "Epoch: 78, Loss: 0.1061180904507637\n",
            "Epoch: 79, Loss: 0.1056566908955574\n",
            "Epoch: 80, Loss: 0.10520431399345398\n",
            "Epoch: 81, Loss: 0.10476063936948776\n",
            "Epoch: 82, Loss: 0.10432539880275726\n",
            "Epoch: 83, Loss: 0.10389832407236099\n",
            "Epoch: 84, Loss: 0.10347916930913925\n",
            "Epoch: 85, Loss: 0.10306767374277115\n",
            "Epoch: 86, Loss: 0.10266359150409698\n",
            "Epoch: 87, Loss: 0.10226672142744064\n",
            "Epoch: 88, Loss: 0.10187682509422302\n",
            "Epoch: 89, Loss: 0.101493701338768\n",
            "Epoch: 90, Loss: 0.10111716389656067\n",
            "Epoch: 91, Loss: 0.1007470190525055\n",
            "Epoch: 92, Loss: 0.10038308054208755\n",
            "Epoch: 93, Loss: 0.10002516955137253\n",
            "Epoch: 94, Loss: 0.09967311471700668\n",
            "Epoch: 95, Loss: 0.09932676702737808\n",
            "Epoch: 96, Loss: 0.09898597747087479\n",
            "Epoch: 97, Loss: 0.09865055978298187\n",
            "Epoch: 98, Loss: 0.09832041710615158\n",
            "Epoch: 99, Loss: 0.09799537062644958\n",
            "Epoch: 100, Loss: 0.09767532348632812\n",
            "Epoch: 101, Loss: 0.09736011922359467\n",
            "Epoch: 102, Loss: 0.09704964607954025\n",
            "Epoch: 103, Loss: 0.09674377739429474\n",
            "Epoch: 104, Loss: 0.09644239395856857\n",
            "Epoch: 105, Loss: 0.09614542126655579\n",
            "Epoch: 106, Loss: 0.09585269540548325\n",
            "Epoch: 107, Loss: 0.09556414932012558\n",
            "Epoch: 108, Loss: 0.09527967125177383\n",
            "Epoch: 109, Loss: 0.09499916434288025\n",
            "Epoch: 110, Loss: 0.09472254663705826\n",
            "Epoch: 111, Loss: 0.0944497212767601\n",
            "Epoch: 112, Loss: 0.09418058395385742\n",
            "Epoch: 113, Loss: 0.09391508251428604\n",
            "Epoch: 114, Loss: 0.093653105199337\n",
            "Epoch: 115, Loss: 0.09339458495378494\n",
            "Epoch: 116, Loss: 0.09313943982124329\n",
            "Epoch: 117, Loss: 0.09288761019706726\n",
            "Epoch: 118, Loss: 0.0926390066742897\n",
            "Epoch: 119, Loss: 0.09239357709884644\n",
            "Epoch: 120, Loss: 0.0921512320637703\n",
            "Epoch: 121, Loss: 0.0919119268655777\n",
            "Epoch: 122, Loss: 0.09167558699846268\n",
            "Epoch: 123, Loss: 0.09144214540719986\n",
            "Epoch: 124, Loss: 0.09121154248714447\n",
            "Epoch: 125, Loss: 0.09098372608423233\n",
            "Epoch: 126, Loss: 0.09075865149497986\n",
            "Epoch: 127, Loss: 0.0905362218618393\n",
            "Epoch: 128, Loss: 0.09031644463539124\n",
            "Epoch: 129, Loss: 0.09009922295808792\n",
            "Epoch: 130, Loss: 0.08988450467586517\n",
            "Epoch: 131, Loss: 0.0896722823381424\n",
            "Epoch: 132, Loss: 0.08946247398853302\n",
            "Epoch: 133, Loss: 0.08925503492355347\n",
            "Epoch: 134, Loss: 0.08904992043972015\n",
            "Epoch: 135, Loss: 0.0888471007347107\n",
            "Epoch: 136, Loss: 0.08864650875329971\n",
            "Epoch: 137, Loss: 0.08844812959432602\n",
            "Epoch: 138, Loss: 0.08825190365314484\n",
            "Epoch: 139, Loss: 0.08805780857801437\n",
            "Epoch: 140, Loss: 0.08786578476428986\n",
            "Epoch: 141, Loss: 0.08767580986022949\n",
            "Epoch: 142, Loss: 0.0874878466129303\n",
            "Epoch: 143, Loss: 0.0873018428683281\n",
            "Epoch: 144, Loss: 0.08711778372526169\n",
            "Epoch: 145, Loss: 0.0869356244802475\n",
            "Epoch: 146, Loss: 0.08675533533096313\n",
            "Epoch: 147, Loss: 0.08657689392566681\n",
            "Epoch: 148, Loss: 0.08640024065971375\n",
            "Epoch: 149, Loss: 0.08622538298368454\n",
            "Epoch: 150, Loss: 0.08605225384235382\n",
            "Epoch: 151, Loss: 0.08588085323572159\n",
            "Epoch: 152, Loss: 0.08571113646030426\n",
            "Epoch: 153, Loss: 0.08554306626319885\n",
            "Epoch: 154, Loss: 0.08537665009498596\n",
            "Epoch: 155, Loss: 0.08521182835102081\n",
            "Epoch: 156, Loss: 0.08504858613014221\n",
            "Epoch: 157, Loss: 0.08488689363002777\n",
            "Epoch: 158, Loss: 0.0847267210483551\n",
            "Epoch: 159, Loss: 0.0845680758357048\n",
            "Epoch: 160, Loss: 0.0844108909368515\n",
            "Epoch: 161, Loss: 0.0842551738023758\n",
            "Epoch: 162, Loss: 0.08410090953111649\n",
            "Epoch: 163, Loss: 0.0839480310678482\n",
            "Epoch: 164, Loss: 0.08379654586315155\n",
            "Epoch: 165, Loss: 0.08364644646644592\n",
            "Epoch: 166, Loss: 0.08349768072366714\n",
            "Epoch: 167, Loss: 0.08335025608539581\n",
            "Epoch: 168, Loss: 0.08320412784814835\n",
            "Epoch: 169, Loss: 0.08305930346250534\n",
            "Epoch: 170, Loss: 0.08291573077440262\n",
            "Epoch: 171, Loss: 0.08277342468500137\n",
            "Epoch: 172, Loss: 0.08263234794139862\n",
            "Epoch: 173, Loss: 0.08249247819185257\n",
            "Epoch: 174, Loss: 0.08235381543636322\n",
            "Epoch: 175, Loss: 0.08221631497144699\n",
            "Epoch: 176, Loss: 0.08207999169826508\n",
            "Epoch: 177, Loss: 0.08194480836391449\n",
            "Epoch: 178, Loss: 0.08181077986955643\n",
            "Epoch: 179, Loss: 0.08167783170938492\n",
            "Epoch: 180, Loss: 0.08154600113630295\n",
            "Epoch: 181, Loss: 0.08141525834798813\n",
            "Epoch: 182, Loss: 0.08128556609153748\n",
            "Epoch: 183, Loss: 0.08115693926811218\n",
            "Epoch: 184, Loss: 0.08102934807538986\n",
            "Epoch: 185, Loss: 0.08090278506278992\n",
            "Epoch: 186, Loss: 0.08077722787857056\n",
            "Epoch: 187, Loss: 0.08065267652273178\n",
            "Epoch: 188, Loss: 0.0805291011929512\n",
            "Epoch: 189, Loss: 0.08040650188922882\n",
            "Epoch: 190, Loss: 0.08028485625982285\n",
            "Epoch: 191, Loss: 0.08016416430473328\n",
            "Epoch: 192, Loss: 0.08004439622163773\n",
            "Epoch: 193, Loss: 0.07992555946111679\n",
            "Epoch: 194, Loss: 0.07980763167142868\n",
            "Epoch: 195, Loss: 0.0796906054019928\n",
            "Epoch: 196, Loss: 0.07957445085048676\n",
            "Epoch: 197, Loss: 0.07945916801691055\n",
            "Epoch: 198, Loss: 0.07934476435184479\n",
            "Epoch: 199, Loss: 0.07923121005296707\n",
            "Epoch: 200, Loss: 0.07911849766969681\n"
          ]
        }
      ]
    },
    {
      "cell_type": "markdown",
      "source": [
        "# Evaluation"
      ],
      "metadata": {
        "id": "JiCwzHVZ8Xry"
      }
    },
    {
      "cell_type": "code",
      "source": [
        "# model evaluation\n",
        "with torch.no_grad():\n",
        "  y_pred = model.forward(X_test_tensor)\n",
        "  y_pred = (y_pred > 0.6).float()\n",
        "  accuracy = (y_pred == y_test_tensor).float().mean()\n",
        "  print(f'Accuracy: {accuracy.item()}')\n"
      ],
      "metadata": {
        "colab": {
          "base_uri": "https://localhost:8080/"
        },
        "id": "JO0c-SDc3r7Q",
        "outputId": "2f2abc40-e335-4a0a-92f0-807e78cad81d"
      },
      "execution_count": 66,
      "outputs": [
        {
          "output_type": "stream",
          "name": "stdout",
          "text": [
            "Accuracy: 0.5872576236724854\n"
          ]
        }
      ]
    },
    {
      "cell_type": "code",
      "source": [],
      "metadata": {
        "id": "sPrEnw8T3r3g"
      },
      "execution_count": null,
      "outputs": []
    },
    {
      "cell_type": "code",
      "source": [],
      "metadata": {
        "id": "r32OqZ4q3rz1"
      },
      "execution_count": null,
      "outputs": []
    },
    {
      "cell_type": "code",
      "source": [],
      "metadata": {
        "id": "EC3fJl2b3rwc"
      },
      "execution_count": null,
      "outputs": []
    },
    {
      "cell_type": "code",
      "source": [],
      "metadata": {
        "id": "45Mo0Bat3tTp"
      },
      "execution_count": null,
      "outputs": []
    },
    {
      "cell_type": "code",
      "source": [],
      "metadata": {
        "id": "fKLogQQY3tPG"
      },
      "execution_count": null,
      "outputs": []
    },
    {
      "cell_type": "code",
      "source": [],
      "metadata": {
        "id": "9q_wLhkt3tLZ"
      },
      "execution_count": null,
      "outputs": []
    },
    {
      "cell_type": "code",
      "source": [],
      "metadata": {
        "id": "E93_O0bQ3tIH"
      },
      "execution_count": null,
      "outputs": []
    },
    {
      "cell_type": "code",
      "source": [],
      "metadata": {
        "id": "u3IIafUX3tEr"
      },
      "execution_count": null,
      "outputs": []
    },
    {
      "cell_type": "code",
      "source": [],
      "metadata": {
        "id": "rPeyaTBa31vN"
      },
      "execution_count": null,
      "outputs": []
    },
    {
      "cell_type": "code",
      "source": [],
      "metadata": {
        "id": "i5tCSU0I31rj"
      },
      "execution_count": null,
      "outputs": []
    },
    {
      "cell_type": "code",
      "source": [],
      "metadata": {
        "id": "LoeRrO5y31n3"
      },
      "execution_count": null,
      "outputs": []
    },
    {
      "cell_type": "code",
      "source": [],
      "metadata": {
        "id": "8IPi_RxS31kM"
      },
      "execution_count": null,
      "outputs": []
    },
    {
      "cell_type": "code",
      "source": [],
      "metadata": {
        "id": "LYKwGIoG31g3"
      },
      "execution_count": null,
      "outputs": []
    },
    {
      "cell_type": "code",
      "source": [],
      "metadata": {
        "id": "RWoPlyuc31dP"
      },
      "execution_count": null,
      "outputs": []
    }
  ]
}