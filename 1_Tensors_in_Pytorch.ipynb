{
  "nbformat": 4,
  "nbformat_minor": 0,
  "metadata": {
    "colab": {
      "provenance": [],
      "gpuType": "T4",
      "authorship_tag": "ABX9TyNLtlDi9jgdtJccka40r5zR",
      "include_colab_link": true
    },
    "kernelspec": {
      "name": "python3",
      "display_name": "Python 3"
    },
    "language_info": {
      "name": "python"
    },
    "accelerator": "GPU"
  },
  "cells": [
    {
      "cell_type": "markdown",
      "metadata": {
        "id": "view-in-github",
        "colab_type": "text"
      },
      "source": [
        "<a href=\"https://colab.research.google.com/github/Arjun9271/Pytorch/blob/main/1_Tensors_in_Pytorch.ipynb\" target=\"_parent\"><img src=\"https://colab.research.google.com/assets/colab-badge.svg\" alt=\"Open In Colab\"/></a>"
      ]
    },
    {
      "cell_type": "code",
      "source": [
        "import torch\n",
        "\n",
        "print(torch.__version__)"
      ],
      "metadata": {
        "colab": {
          "base_uri": "https://localhost:8080/"
        },
        "id": "4YCOi4HvXDnv",
        "outputId": "6d466ed1-4446-4cfe-ea6e-1e8a9a792ade"
      },
      "execution_count": null,
      "outputs": [
        {
          "output_type": "stream",
          "name": "stdout",
          "text": [
            "2.5.1+cu121\n"
          ]
        }
      ]
    },
    {
      "cell_type": "code",
      "source": [
        "if torch.cuda.is_available():\n",
        "    print(\"GPU is available\")\n",
        "    print(f\"using GPU:{torch.cuda.get_device_name(0)}\")\n",
        "else:\n",
        "    print(\"GPU not available.using cpu\")"
      ],
      "metadata": {
        "colab": {
          "base_uri": "https://localhost:8080/"
        },
        "id": "bpywG8DRcsYY",
        "outputId": "07d0b1a1-9eaa-4823-ef5c-2489c9ee8d7e"
      },
      "execution_count": null,
      "outputs": [
        {
          "output_type": "stream",
          "name": "stdout",
          "text": [
            "GPU is available\n",
            "using GPU:Tesla T4\n"
          ]
        }
      ]
    },
    {
      "cell_type": "markdown",
      "source": [
        "# Creating a Tensor"
      ],
      "metadata": {
        "id": "p5u6Cnqxdvyo"
      }
    },
    {
      "cell_type": "code",
      "source": [
        "# empty - will create a tensor\n",
        "\n",
        "torch.empty(2,3)"
      ],
      "metadata": {
        "colab": {
          "base_uri": "https://localhost:8080/"
        },
        "id": "TP6HwswlXDrg",
        "outputId": "72ed0ee9-6837-4a21-f28c-97138d3648ac"
      },
      "execution_count": null,
      "outputs": [
        {
          "output_type": "execute_result",
          "data": {
            "text/plain": [
              "tensor([[0., 0., 0.],\n",
              "        [0., 0., 0.]])"
            ]
          },
          "metadata": {},
          "execution_count": 3
        }
      ]
    },
    {
      "cell_type": "code",
      "source": [
        "a = torch.empty(3,3)\n",
        "a"
      ],
      "metadata": {
        "colab": {
          "base_uri": "https://localhost:8080/"
        },
        "id": "R_Cpo_fGfXab",
        "outputId": "bc688169-8267-4afc-efd9-b33fe234cdc1"
      },
      "execution_count": null,
      "outputs": [
        {
          "output_type": "execute_result",
          "data": {
            "text/plain": [
              "tensor([[2.1707e-18, 7.0952e+22, 1.7748e+28],\n",
              "        [1.8176e+31, 7.2708e+31, 5.0778e+31],\n",
              "        [3.2608e-12, 1.7728e+28, 7.0367e+22]])"
            ]
          },
          "metadata": {},
          "execution_count": 4
        }
      ]
    },
    {
      "cell_type": "code",
      "source": [
        "# check type\n",
        "\n",
        "type(a)"
      ],
      "metadata": {
        "colab": {
          "base_uri": "https://localhost:8080/"
        },
        "id": "4LIPAkSgXDvW",
        "outputId": "98fbb190-6ef5-40eb-997d-528e4332dd5e"
      },
      "execution_count": null,
      "outputs": [
        {
          "output_type": "execute_result",
          "data": {
            "text/plain": [
              "torch.Tensor"
            ]
          },
          "metadata": {},
          "execution_count": 5
        }
      ]
    },
    {
      "cell_type": "code",
      "source": [
        "print(type(a))"
      ],
      "metadata": {
        "colab": {
          "base_uri": "https://localhost:8080/"
        },
        "id": "wUhrH7YTXDyo",
        "outputId": "6abe50d2-b8a0-433b-d61b-c4f7dad05b08"
      },
      "execution_count": null,
      "outputs": [
        {
          "output_type": "stream",
          "name": "stdout",
          "text": [
            "<class 'torch.Tensor'>\n"
          ]
        }
      ]
    },
    {
      "cell_type": "code",
      "source": [
        "#using zeros\n",
        "\n",
        "torch.zeros(5,5)"
      ],
      "metadata": {
        "colab": {
          "base_uri": "https://localhost:8080/"
        },
        "id": "98tp8igjXD17",
        "outputId": "f246dbe8-7206-42bd-d305-4a9cb5015fd1"
      },
      "execution_count": null,
      "outputs": [
        {
          "output_type": "execute_result",
          "data": {
            "text/plain": [
              "tensor([[0., 0., 0., 0., 0.],\n",
              "        [0., 0., 0., 0., 0.],\n",
              "        [0., 0., 0., 0., 0.],\n",
              "        [0., 0., 0., 0., 0.],\n",
              "        [0., 0., 0., 0., 0.]])"
            ]
          },
          "metadata": {},
          "execution_count": 7
        }
      ]
    },
    {
      "cell_type": "code",
      "source": [
        "# using ones\n",
        "\n",
        "torch.ones(5,4)"
      ],
      "metadata": {
        "colab": {
          "base_uri": "https://localhost:8080/"
        },
        "id": "TZJT5VCLXD5k",
        "outputId": "4bfa9151-b43c-417a-b4fd-3f6c4a0c14c7"
      },
      "execution_count": null,
      "outputs": [
        {
          "output_type": "execute_result",
          "data": {
            "text/plain": [
              "tensor([[1., 1., 1., 1.],\n",
              "        [1., 1., 1., 1.],\n",
              "        [1., 1., 1., 1.],\n",
              "        [1., 1., 1., 1.],\n",
              "        [1., 1., 1., 1.]])"
            ]
          },
          "metadata": {},
          "execution_count": 8
        }
      ]
    },
    {
      "cell_type": "code",
      "source": [
        "# using function rand\n",
        "# creates values between 0 and 1\n",
        "\n",
        "torch.rand(2,3)"
      ],
      "metadata": {
        "colab": {
          "base_uri": "https://localhost:8080/"
        },
        "id": "CrzC11jYXD9t",
        "outputId": "9cb07578-f771-468b-cea0-5e9ddf7da67f"
      },
      "execution_count": null,
      "outputs": [
        {
          "output_type": "execute_result",
          "data": {
            "text/plain": [
              "tensor([[0.6272, 0.6241, 0.2523],\n",
              "        [0.6257, 0.8065, 0.2276]])"
            ]
          },
          "metadata": {},
          "execution_count": 9
        }
      ]
    },
    {
      "cell_type": "code",
      "source": [
        "torch.rand(2,3) # different values got"
      ],
      "metadata": {
        "colab": {
          "base_uri": "https://localhost:8080/"
        },
        "id": "Blnf6166XEBh",
        "outputId": "a59da710-fa22-497f-cf34-dd527b0a3a3f"
      },
      "execution_count": null,
      "outputs": [
        {
          "output_type": "execute_result",
          "data": {
            "text/plain": [
              "tensor([[0.1567, 0.8304, 0.5295],\n",
              "        [0.7105, 0.3298, 0.6237]])"
            ]
          },
          "metadata": {},
          "execution_count": 10
        }
      ]
    },
    {
      "cell_type": "code",
      "source": [
        "# use of seed #manual_seed\n",
        "\n",
        "torch.manual_seed(10)\n",
        "torch.rand(5,4)\n",
        "\n"
      ],
      "metadata": {
        "colab": {
          "base_uri": "https://localhost:8080/"
        },
        "id": "Msn9kV-LXEFR",
        "outputId": "325bbac3-52f3-4ca9-e45a-2322a36c0120"
      },
      "execution_count": null,
      "outputs": [
        {
          "output_type": "execute_result",
          "data": {
            "text/plain": [
              "tensor([[0.4581, 0.4829, 0.3125, 0.6150],\n",
              "        [0.2139, 0.4118, 0.6938, 0.9693],\n",
              "        [0.6178, 0.3304, 0.5479, 0.4440],\n",
              "        [0.7041, 0.5573, 0.6959, 0.9849],\n",
              "        [0.2924, 0.4823, 0.6150, 0.4967]])"
            ]
          },
          "metadata": {},
          "execution_count": 11
        }
      ]
    },
    {
      "cell_type": "code",
      "source": [
        "torch.manual_seed(10)\n",
        "torch.rand(5,4)"
      ],
      "metadata": {
        "colab": {
          "base_uri": "https://localhost:8080/"
        },
        "id": "zppeyONeXEIr",
        "outputId": "676673d4-c6cc-4359-caa3-1145237dd893"
      },
      "execution_count": null,
      "outputs": [
        {
          "output_type": "execute_result",
          "data": {
            "text/plain": [
              "tensor([[0.4581, 0.4829, 0.3125, 0.6150],\n",
              "        [0.2139, 0.4118, 0.6938, 0.9693],\n",
              "        [0.6178, 0.3304, 0.5479, 0.4440],\n",
              "        [0.7041, 0.5573, 0.6959, 0.9849],\n",
              "        [0.2924, 0.4823, 0.6150, 0.4967]])"
            ]
          },
          "metadata": {},
          "execution_count": 12
        }
      ]
    },
    {
      "cell_type": "code",
      "source": [
        "# using tensor --------> custom tensors\n",
        "\n",
        "torch.tensor([[2,0,2,5],[2,0,2,4]])"
      ],
      "metadata": {
        "colab": {
          "base_uri": "https://localhost:8080/"
        },
        "id": "zIFK6lMugumi",
        "outputId": "4fa7a1d6-8af6-4c58-e83b-a5d74f54f9b5"
      },
      "execution_count": null,
      "outputs": [
        {
          "output_type": "execute_result",
          "data": {
            "text/plain": [
              "tensor([[2, 0, 2, 5],\n",
              "        [2, 0, 2, 4]])"
            ]
          },
          "metadata": {},
          "execution_count": 13
        }
      ]
    },
    {
      "cell_type": "code",
      "source": [
        "# other ways to create the tensors\n",
        "\n",
        "# arange\n",
        "print(f\"using arange ------> \\n{torch.arange(0,20,2)}\\n\")  # its like range\n",
        "\n",
        "# linspace\n",
        "print(f\"using linspace------>\\n{torch.linspace(0,7,6)}\\n\") #produced 6 values equally between 0 and 7\n",
        "\n",
        "# eye\n",
        "print(f\"using eye----------->\\n{torch.eye(4)}\\n\")  #identity matrix\n",
        "\n",
        "\n",
        "# full\n",
        "print(f\"using full----------->\\n{torch.full((3,4),4)}\")  #shape with a particular item\n",
        "\n",
        "\n",
        "\n",
        "\n"
      ],
      "metadata": {
        "colab": {
          "base_uri": "https://localhost:8080/"
        },
        "id": "vXfQsNQyhJW-",
        "outputId": "30950e74-a0bd-461a-cd93-1d114ac7116b"
      },
      "execution_count": null,
      "outputs": [
        {
          "output_type": "stream",
          "name": "stdout",
          "text": [
            "using arange ------> \n",
            "tensor([ 0,  2,  4,  6,  8, 10, 12, 14, 16, 18])\n",
            "\n",
            "using linspace------>\n",
            "tensor([0.0000, 1.4000, 2.8000, 4.2000, 5.6000, 7.0000])\n",
            "\n",
            "using eye----------->\n",
            "tensor([[1., 0., 0., 0.],\n",
            "        [0., 1., 0., 0.],\n",
            "        [0., 0., 1., 0.],\n",
            "        [0., 0., 0., 1.]])\n",
            "\n",
            "using full----------->\n",
            "tensor([[4, 4, 4, 4],\n",
            "        [4, 4, 4, 4],\n",
            "        [4, 4, 4, 4]])\n"
          ]
        }
      ]
    },
    {
      "cell_type": "markdown",
      "source": [
        "# Tensor Shapes"
      ],
      "metadata": {
        "id": "Lg6HQdnfjixN"
      }
    },
    {
      "cell_type": "code",
      "source": [
        "x = torch.full((2,3),6)\n",
        "x"
      ],
      "metadata": {
        "colab": {
          "base_uri": "https://localhost:8080/"
        },
        "id": "4Zd7Yw2kia3Z",
        "outputId": "dc40be90-843e-4baa-f2ab-c132ad13d504"
      },
      "execution_count": null,
      "outputs": [
        {
          "output_type": "execute_result",
          "data": {
            "text/plain": [
              "tensor([[6, 6, 6],\n",
              "        [6, 6, 6]])"
            ]
          },
          "metadata": {},
          "execution_count": 15
        }
      ]
    },
    {
      "cell_type": "code",
      "source": [
        "y = torch.tensor([[1,4,9],[16,25,36],[49,64,81]])\n",
        "y"
      ],
      "metadata": {
        "colab": {
          "base_uri": "https://localhost:8080/"
        },
        "id": "AcLbMEx8j5dr",
        "outputId": "0f0bbc69-2db6-4938-b252-97de70120fa7"
      },
      "execution_count": null,
      "outputs": [
        {
          "output_type": "execute_result",
          "data": {
            "text/plain": [
              "tensor([[ 1,  4,  9],\n",
              "        [16, 25, 36],\n",
              "        [49, 64, 81]])"
            ]
          },
          "metadata": {},
          "execution_count": 16
        }
      ]
    },
    {
      "cell_type": "code",
      "source": [
        "x.shape"
      ],
      "metadata": {
        "colab": {
          "base_uri": "https://localhost:8080/"
        },
        "id": "9LTDBWkEjug_",
        "outputId": "70133989-c2a0-4b64-be5b-4c42b30c75e3"
      },
      "execution_count": null,
      "outputs": [
        {
          "output_type": "execute_result",
          "data": {
            "text/plain": [
              "torch.Size([2, 3])"
            ]
          },
          "metadata": {},
          "execution_count": 17
        }
      ]
    },
    {
      "cell_type": "code",
      "source": [
        "y.shape"
      ],
      "metadata": {
        "colab": {
          "base_uri": "https://localhost:8080/"
        },
        "id": "myR5Ztr1j0D9",
        "outputId": "0a495fbe-8f7c-4601-e04d-89a46a3793e9"
      },
      "execution_count": null,
      "outputs": [
        {
          "output_type": "execute_result",
          "data": {
            "text/plain": [
              "torch.Size([3, 3])"
            ]
          },
          "metadata": {},
          "execution_count": 18
        }
      ]
    },
    {
      "cell_type": "code",
      "source": [
        "torch.empty_like(y)"
      ],
      "metadata": {
        "colab": {
          "base_uri": "https://localhost:8080/"
        },
        "id": "bMMNiSWpkH_n",
        "outputId": "fb110d0c-7411-4397-91ab-11f61f24260a"
      },
      "execution_count": null,
      "outputs": [
        {
          "output_type": "execute_result",
          "data": {
            "text/plain": [
              "tensor([[139514194210192, 100564298509136, 100564298278432],\n",
              "        [100564298267616,               0, 100564271310752],\n",
              "        [100564274118048, 139513161746608,               0]])"
            ]
          },
          "metadata": {},
          "execution_count": 19
        }
      ]
    },
    {
      "cell_type": "code",
      "source": [
        "torch.zeros_like(x)"
      ],
      "metadata": {
        "colab": {
          "base_uri": "https://localhost:8080/"
        },
        "id": "R8OkiCT1kSk5",
        "outputId": "7106b2be-211c-4316-85d4-d7f07a6ef8b0"
      },
      "execution_count": null,
      "outputs": [
        {
          "output_type": "execute_result",
          "data": {
            "text/plain": [
              "tensor([[0, 0, 0],\n",
              "        [0, 0, 0]])"
            ]
          },
          "metadata": {},
          "execution_count": 20
        }
      ]
    },
    {
      "cell_type": "code",
      "source": [
        "torch.ones_like(x)"
      ],
      "metadata": {
        "colab": {
          "base_uri": "https://localhost:8080/"
        },
        "id": "IBLQAVVakShN",
        "outputId": "6054bce3-fd43-4fca-cb93-9f4fb9d8de90"
      },
      "execution_count": null,
      "outputs": [
        {
          "output_type": "execute_result",
          "data": {
            "text/plain": [
              "tensor([[1, 1, 1],\n",
              "        [1, 1, 1]])"
            ]
          },
          "metadata": {},
          "execution_count": 21
        }
      ]
    },
    {
      "cell_type": "code",
      "source": [
        "torch.rand_like(y)"
      ],
      "metadata": {
        "colab": {
          "base_uri": "https://localhost:8080/",
          "height": 141
        },
        "id": "4T8LvR-6kSdp",
        "outputId": "e1dcd6e9-550a-4c4e-eb3b-891cc2c6fbfa"
      },
      "execution_count": null,
      "outputs": [
        {
          "output_type": "error",
          "ename": "RuntimeError",
          "evalue": "\"check_uniform_bounds\" not implemented for 'Long'",
          "traceback": [
            "\u001b[0;31m---------------------------------------------------------------------------\u001b[0m",
            "\u001b[0;31mRuntimeError\u001b[0m                              Traceback (most recent call last)",
            "\u001b[0;32m<ipython-input-22-0922e5318609>\u001b[0m in \u001b[0;36m<cell line: 1>\u001b[0;34m()\u001b[0m\n\u001b[0;32m----> 1\u001b[0;31m \u001b[0mtorch\u001b[0m\u001b[0;34m.\u001b[0m\u001b[0mrand_like\u001b[0m\u001b[0;34m(\u001b[0m\u001b[0my\u001b[0m\u001b[0;34m)\u001b[0m\u001b[0;34m\u001b[0m\u001b[0;34m\u001b[0m\u001b[0m\n\u001b[0m",
            "\u001b[0;31mRuntimeError\u001b[0m: \"check_uniform_bounds\" not implemented for 'Long'"
          ]
        }
      ]
    },
    {
      "cell_type": "markdown",
      "source": [
        "# Tensor Data Types"
      ],
      "metadata": {
        "id": "lAx3X7gMlCBq"
      }
    },
    {
      "cell_type": "code",
      "source": [
        "# finding data type\n",
        "\n",
        "y.dtype"
      ],
      "metadata": {
        "colab": {
          "base_uri": "https://localhost:8080/"
        },
        "id": "_7UkgA4_kSaX",
        "outputId": "60443c6e-629b-4671-d0c0-00e0d86c7945"
      },
      "execution_count": null,
      "outputs": [
        {
          "output_type": "execute_result",
          "data": {
            "text/plain": [
              "torch.int64"
            ]
          },
          "metadata": {},
          "execution_count": 23
        }
      ]
    },
    {
      "cell_type": "code",
      "source": [
        "# assign data type while creating a tensor\n",
        "\n",
        "torch.tensor([[1,7,2,9],[1,7,1,0],[1,0,0,1]],dtype = torch.float32)"
      ],
      "metadata": {
        "colab": {
          "base_uri": "https://localhost:8080/"
        },
        "id": "WYaiT5cYkSW4",
        "outputId": "15fa608c-fe78-4c0d-bd90-90166efdacad"
      },
      "execution_count": null,
      "outputs": [
        {
          "output_type": "execute_result",
          "data": {
            "text/plain": [
              "tensor([[1., 7., 2., 9.],\n",
              "        [1., 7., 1., 0.],\n",
              "        [1., 0., 0., 1.]])"
            ]
          },
          "metadata": {},
          "execution_count": 24
        }
      ]
    },
    {
      "cell_type": "code",
      "source": [
        "torch.tensor([1.0,8.0,27.0,64.0],dtype = torch.int32)"
      ],
      "metadata": {
        "colab": {
          "base_uri": "https://localhost:8080/"
        },
        "id": "i7r4t2VokSTY",
        "outputId": "a6bbb1ce-4e10-4c00-ed13-9bb71a581d89"
      },
      "execution_count": null,
      "outputs": [
        {
          "output_type": "execute_result",
          "data": {
            "text/plain": [
              "tensor([ 1,  8, 27, 64], dtype=torch.int32)"
            ]
          },
          "metadata": {},
          "execution_count": 25
        }
      ]
    },
    {
      "cell_type": "code",
      "source": [
        "x"
      ],
      "metadata": {
        "colab": {
          "base_uri": "https://localhost:8080/"
        },
        "id": "48k9wnpBkSPn",
        "outputId": "2ec233b8-fe2c-4cd1-9f3b-246a08e15c0b"
      },
      "execution_count": null,
      "outputs": [
        {
          "output_type": "execute_result",
          "data": {
            "text/plain": [
              "tensor([[6, 6, 6],\n",
              "        [6, 6, 6]])"
            ]
          },
          "metadata": {},
          "execution_count": 26
        }
      ]
    },
    {
      "cell_type": "code",
      "source": [
        "#using to() ---> to use to convert the existing one to other\n",
        "\n",
        "x.to(torch.float32)"
      ],
      "metadata": {
        "colab": {
          "base_uri": "https://localhost:8080/"
        },
        "id": "1XnLWUEqkSMJ",
        "outputId": "849c8576-101c-46c0-a80b-03777b10914a"
      },
      "execution_count": null,
      "outputs": [
        {
          "output_type": "execute_result",
          "data": {
            "text/plain": [
              "tensor([[6., 6., 6.],\n",
              "        [6., 6., 6.]])"
            ]
          },
          "metadata": {},
          "execution_count": 27
        }
      ]
    },
    {
      "cell_type": "code",
      "source": [
        "# handled the error that arised before\n",
        "\n",
        "torch.rand_like(y,dtype = torch.float32)"
      ],
      "metadata": {
        "colab": {
          "base_uri": "https://localhost:8080/"
        },
        "id": "hvGLh9kXkSIi",
        "outputId": "44227cf5-0d37-4eb5-e66f-c5c0c913eb4e"
      },
      "execution_count": null,
      "outputs": [
        {
          "output_type": "execute_result",
          "data": {
            "text/plain": [
              "tensor([[0.4521, 0.0575, 0.0687],\n",
              "        [0.0501, 0.0108, 0.0343],\n",
              "        [0.1212, 0.0490, 0.0310]])"
            ]
          },
          "metadata": {},
          "execution_count": 28
        }
      ]
    },
    {
      "cell_type": "markdown",
      "source": [
        "# Mathematical Operations"
      ],
      "metadata": {
        "id": "4TPfJXDfnfQ2"
      }
    },
    {
      "cell_type": "markdown",
      "source": [
        "## 1. Scalar Operation"
      ],
      "metadata": {
        "id": "ohqkbRLfnmQO"
      }
    },
    {
      "cell_type": "code",
      "source": [
        "x = torch.full((3,3),1)\n",
        "x"
      ],
      "metadata": {
        "colab": {
          "base_uri": "https://localhost:8080/"
        },
        "id": "857xomLUkSFB",
        "outputId": "b11f6242-e9e3-46b7-e5e6-9b6b8956d52d"
      },
      "execution_count": null,
      "outputs": [
        {
          "output_type": "execute_result",
          "data": {
            "text/plain": [
              "tensor([[1, 1, 1],\n",
              "        [1, 1, 1],\n",
              "        [1, 1, 1]])"
            ]
          },
          "metadata": {},
          "execution_count": 29
        }
      ]
    },
    {
      "cell_type": "code",
      "source": [
        "def operation(tens,option):\n",
        "       if option == 'add':\n",
        "            print(f\"addition{'->'*50}\\n{tens}\\n\")\n",
        "       elif option == 'sub':\n",
        "            print(f\"subtraction{'->'*50}\\n{tens}\\n\")\n",
        "       elif option == 'mul':\n",
        "            print(f\"multiplication{'->'*50}\\n{tens}\\n\")\n",
        "       elif option == 'div':\n",
        "            print(f\"division{'->'*50}\\n{tens}\\n\")\n",
        "       elif option == 'pow':\n",
        "            print(f\"power{'->'*50}\\n{tens}\\n\")\n",
        "       elif option == \"mod\":\n",
        "            print(f\"modulus{'->'*50}\\n{tens}\\n\")\n",
        "       else:\n",
        "            print(\"invalid operation\")"
      ],
      "metadata": {
        "id": "Ot20AWDwoP9W"
      },
      "execution_count": null,
      "outputs": []
    },
    {
      "cell_type": "code",
      "source": [
        "# addition\n",
        "\n",
        "operation(x+2,'add')\n",
        "\n",
        "#substraction -\n",
        "operation(x-2,'sub')\n",
        "\n",
        "# multiplication\n",
        "operation(x*2,'mul')\n",
        "\n",
        "#division\n",
        "operation(x/3,'div')\n",
        "\n",
        "#int division\n",
        "operation(x//2,'div')\n",
        "\n",
        "#power\n",
        "k = x*5\n",
        "operation(k**2,'pow')\n",
        "\n",
        "# modulus\n",
        "\n",
        "operation(k%3,'mod')\n"
      ],
      "metadata": {
        "colab": {
          "base_uri": "https://localhost:8080/"
        },
        "id": "BGgXxOntkNH9",
        "outputId": "0e01131d-5ca2-4c84-b891-bcfff46c35ea"
      },
      "execution_count": null,
      "outputs": [
        {
          "output_type": "stream",
          "name": "stdout",
          "text": [
            "addition->->->->->->->->->->->->->->->->->->->->->->->->->->->->->->->->->->->->->->->->->->->->->->->->->->\n",
            "tensor([[3, 3, 3],\n",
            "        [3, 3, 3],\n",
            "        [3, 3, 3]])\n",
            "\n",
            "subtraction->->->->->->->->->->->->->->->->->->->->->->->->->->->->->->->->->->->->->->->->->->->->->->->->->->\n",
            "tensor([[-1, -1, -1],\n",
            "        [-1, -1, -1],\n",
            "        [-1, -1, -1]])\n",
            "\n",
            "multiplication->->->->->->->->->->->->->->->->->->->->->->->->->->->->->->->->->->->->->->->->->->->->->->->->->->\n",
            "tensor([[2, 2, 2],\n",
            "        [2, 2, 2],\n",
            "        [2, 2, 2]])\n",
            "\n",
            "division->->->->->->->->->->->->->->->->->->->->->->->->->->->->->->->->->->->->->->->->->->->->->->->->->->\n",
            "tensor([[0.3333, 0.3333, 0.3333],\n",
            "        [0.3333, 0.3333, 0.3333],\n",
            "        [0.3333, 0.3333, 0.3333]])\n",
            "\n",
            "division->->->->->->->->->->->->->->->->->->->->->->->->->->->->->->->->->->->->->->->->->->->->->->->->->->\n",
            "tensor([[0, 0, 0],\n",
            "        [0, 0, 0],\n",
            "        [0, 0, 0]])\n",
            "\n",
            "power->->->->->->->->->->->->->->->->->->->->->->->->->->->->->->->->->->->->->->->->->->->->->->->->->->\n",
            "tensor([[25, 25, 25],\n",
            "        [25, 25, 25],\n",
            "        [25, 25, 25]])\n",
            "\n",
            "modulus->->->->->->->->->->->->->->->->->->->->->->->->->->->->->->->->->->->->->->->->->->->->->->->->->->\n",
            "tensor([[2, 2, 2],\n",
            "        [2, 2, 2],\n",
            "        [2, 2, 2]])\n",
            "\n"
          ]
        }
      ]
    },
    {
      "cell_type": "markdown",
      "source": [
        "# 2.Element Wise Operation"
      ],
      "metadata": {
        "id": "puoKOe2srfgH"
      }
    },
    {
      "cell_type": "code",
      "source": [
        "a = torch.tensor([[2,0,0,1]])\n",
        "b = torch.tensor([3,2,3,4])\n",
        "\n",
        "print(a,end = \"\\n\\n\")\n",
        "print(b)\n",
        "\n",
        "\n",
        "# add\n",
        "print(f\"addition{'-'*50}\\n{a+b}\\n\")\n",
        "\n",
        "# sub\n",
        "print(f\"subtraction{'-'*50}\\n{a-b}\\n\")\n",
        "\n",
        "# mul\n",
        "print(f\"multiplication{'-'*50}\\n{a*b}\\n\")\n",
        "\n",
        "#div\n",
        "print(f\"division{'-'*50}\\n{a//b}\\n\")\n",
        "\n",
        "# power\n",
        "\n",
        "print(f\"power{'-'*50}\\n{a**b}\\n\")\n"
      ],
      "metadata": {
        "colab": {
          "base_uri": "https://localhost:8080/"
        },
        "id": "v3o7QVpansGd",
        "outputId": "48c59415-503b-46a2-8eab-590602fea42d"
      },
      "execution_count": null,
      "outputs": [
        {
          "output_type": "stream",
          "name": "stdout",
          "text": [
            "tensor([[2, 0, 0, 1]])\n",
            "\n",
            "tensor([3, 2, 3, 4])\n",
            "addition--------------------------------------------------\n",
            "tensor([[5, 2, 3, 5]])\n",
            "\n",
            "subtraction--------------------------------------------------\n",
            "tensor([[-1, -2, -3, -3]])\n",
            "\n",
            "multiplication--------------------------------------------------\n",
            "tensor([[6, 0, 0, 4]])\n",
            "\n",
            "division--------------------------------------------------\n",
            "tensor([[0, 0, 0, 0]])\n",
            "\n",
            "power--------------------------------------------------\n",
            "tensor([[8, 0, 0, 1]])\n",
            "\n"
          ]
        }
      ]
    },
    {
      "cell_type": "code",
      "source": [
        "# absolute\n",
        "\n",
        "vector = torch.tensor([-1,2,3,-4])\n",
        "\n",
        "torch.abs(vector)"
      ],
      "metadata": {
        "colab": {
          "base_uri": "https://localhost:8080/"
        },
        "id": "se2uy3GxnsDD",
        "outputId": "ab2c636b-c8de-441e-dac7-76c977c051e9"
      },
      "execution_count": null,
      "outputs": [
        {
          "output_type": "execute_result",
          "data": {
            "text/plain": [
              "tensor([1, 2, 3, 4])"
            ]
          },
          "metadata": {},
          "execution_count": 33
        }
      ]
    },
    {
      "cell_type": "code",
      "source": [
        "#negative\n",
        "\n",
        "torch.neg(vector)"
      ],
      "metadata": {
        "colab": {
          "base_uri": "https://localhost:8080/"
        },
        "id": "0iV35Appnr_y",
        "outputId": "519044bb-94ce-4726-be52-979b47a98820"
      },
      "execution_count": null,
      "outputs": [
        {
          "output_type": "execute_result",
          "data": {
            "text/plain": [
              "tensor([ 1, -2, -3,  4])"
            ]
          },
          "metadata": {},
          "execution_count": 34
        }
      ]
    },
    {
      "cell_type": "code",
      "source": [
        "#round\n",
        "\n",
        "float_val_tensor = torch.tensor([1.3,2.8,5.1,6.5,7.8])\n",
        "\n",
        "torch.round(float_val_tensor)"
      ],
      "metadata": {
        "colab": {
          "base_uri": "https://localhost:8080/"
        },
        "id": "BGOGX0Jqnr84",
        "outputId": "dc12f4c3-87fd-4b63-bccf-88292cfbce35"
      },
      "execution_count": null,
      "outputs": [
        {
          "output_type": "execute_result",
          "data": {
            "text/plain": [
              "tensor([1., 3., 5., 6., 8.])"
            ]
          },
          "metadata": {},
          "execution_count": 35
        }
      ]
    },
    {
      "cell_type": "code",
      "source": [
        "# ceil\n",
        "\n",
        "torch.ceil(float_val_tensor)"
      ],
      "metadata": {
        "colab": {
          "base_uri": "https://localhost:8080/"
        },
        "id": "p53jYPzqnr58",
        "outputId": "58d36472-3469-4e73-9523-a61a4b0ae476"
      },
      "execution_count": null,
      "outputs": [
        {
          "output_type": "execute_result",
          "data": {
            "text/plain": [
              "tensor([2., 3., 6., 7., 8.])"
            ]
          },
          "metadata": {},
          "execution_count": 36
        }
      ]
    },
    {
      "cell_type": "code",
      "source": [
        "# floor\n",
        "\n",
        "torch.floor(float_val_tensor)"
      ],
      "metadata": {
        "colab": {
          "base_uri": "https://localhost:8080/"
        },
        "id": "mtzflz3Jnr29",
        "outputId": "11f5aaa1-3b7b-4622-9636-0eaf6903170d"
      },
      "execution_count": null,
      "outputs": [
        {
          "output_type": "execute_result",
          "data": {
            "text/plain": [
              "tensor([1., 2., 5., 6., 7.])"
            ]
          },
          "metadata": {},
          "execution_count": 37
        }
      ]
    },
    {
      "cell_type": "code",
      "source": [
        "# clamp\n",
        "\n",
        "torch.clamp(float_val_tensor,min = 2,max = 5)"
      ],
      "metadata": {
        "colab": {
          "base_uri": "https://localhost:8080/"
        },
        "id": "2ukA8_nfwFlu",
        "outputId": "ae87cdc1-3c9a-4f44-e41c-0efa9af5a081"
      },
      "execution_count": null,
      "outputs": [
        {
          "output_type": "execute_result",
          "data": {
            "text/plain": [
              "tensor([2.0000, 2.8000, 5.0000, 5.0000, 5.0000])"
            ]
          },
          "metadata": {},
          "execution_count": 38
        }
      ]
    },
    {
      "cell_type": "markdown",
      "source": [
        "# 3. Reduction Operation"
      ],
      "metadata": {
        "id": "UDACc0_OwrIL"
      }
    },
    {
      "cell_type": "code",
      "source": [
        "# low - inclusive and high - exclusive\n",
        "e = torch.randint(size = (5,5),low = 1,high = 5)\n",
        "e"
      ],
      "metadata": {
        "colab": {
          "base_uri": "https://localhost:8080/"
        },
        "id": "smsgiykMwX0U",
        "outputId": "950ffc21-4fce-465d-992e-d44a7f913c3a"
      },
      "execution_count": null,
      "outputs": [
        {
          "output_type": "execute_result",
          "data": {
            "text/plain": [
              "tensor([[3, 3, 2, 1, 1],\n",
              "        [3, 2, 4, 3, 2],\n",
              "        [2, 2, 4, 2, 3],\n",
              "        [2, 1, 3, 3, 3],\n",
              "        [2, 1, 2, 4, 2]])"
            ]
          },
          "metadata": {},
          "execution_count": 39
        }
      ]
    },
    {
      "cell_type": "code",
      "source": [
        "# sum\n",
        "\n",
        "torch.sum(e)"
      ],
      "metadata": {
        "colab": {
          "base_uri": "https://localhost:8080/"
        },
        "id": "Z8r8GSguw6fY",
        "outputId": "9d814820-1bbb-404c-da6b-292004e08f40"
      },
      "execution_count": null,
      "outputs": [
        {
          "output_type": "execute_result",
          "data": {
            "text/plain": [
              "tensor(60)"
            ]
          },
          "metadata": {},
          "execution_count": 40
        }
      ]
    },
    {
      "cell_type": "code",
      "source": [
        "# sum along rows\n",
        "\n",
        "torch.sum(e,dim = 1)"
      ],
      "metadata": {
        "colab": {
          "base_uri": "https://localhost:8080/"
        },
        "id": "Ry8_vJ0QxFk6",
        "outputId": "7ea032c1-7cac-41dc-83ad-d662ec1a5a75"
      },
      "execution_count": null,
      "outputs": [
        {
          "output_type": "execute_result",
          "data": {
            "text/plain": [
              "tensor([10, 14, 13, 12, 11])"
            ]
          },
          "metadata": {},
          "execution_count": 41
        }
      ]
    },
    {
      "cell_type": "code",
      "source": [
        "# sum along columns\n",
        "\n",
        "torch.sum(e,dim = 0)"
      ],
      "metadata": {
        "colab": {
          "base_uri": "https://localhost:8080/"
        },
        "id": "fWmjxcNlxTXn",
        "outputId": "feacd280-c2a7-4ea7-cf87-9993932d7083"
      },
      "execution_count": null,
      "outputs": [
        {
          "output_type": "execute_result",
          "data": {
            "text/plain": [
              "tensor([12,  9, 15, 13, 11])"
            ]
          },
          "metadata": {},
          "execution_count": 42
        }
      ]
    },
    {
      "cell_type": "code",
      "source": [
        "# mean\n",
        "\n",
        "torch.mean(e,dtype = torch.float32)"
      ],
      "metadata": {
        "colab": {
          "base_uri": "https://localhost:8080/"
        },
        "id": "Gz-Z1wHMxn33",
        "outputId": "40772945-bc74-40f2-ac37-91f31175894c"
      },
      "execution_count": null,
      "outputs": [
        {
          "output_type": "execute_result",
          "data": {
            "text/plain": [
              "tensor(2.4000)"
            ]
          },
          "metadata": {},
          "execution_count": 43
        }
      ]
    },
    {
      "cell_type": "code",
      "source": [
        "# mean along col\n",
        "\n",
        "torch.mean(e,dim = 0,dtype = torch.float32)"
      ],
      "metadata": {
        "colab": {
          "base_uri": "https://localhost:8080/"
        },
        "id": "_R5HQdakxs6r",
        "outputId": "520844ed-5636-4bb2-9699-520d38808b0f"
      },
      "execution_count": null,
      "outputs": [
        {
          "output_type": "execute_result",
          "data": {
            "text/plain": [
              "tensor([2.4000, 1.8000, 3.0000, 2.6000, 2.2000])"
            ]
          },
          "metadata": {},
          "execution_count": 44
        }
      ]
    },
    {
      "cell_type": "code",
      "source": [
        "# median\n",
        "\n",
        "torch.median(e)"
      ],
      "metadata": {
        "colab": {
          "base_uri": "https://localhost:8080/"
        },
        "id": "z6lOcmZex8Ck",
        "outputId": "19df18b6-0a84-4e25-f381-b3a17e1d3e38"
      },
      "execution_count": null,
      "outputs": [
        {
          "output_type": "execute_result",
          "data": {
            "text/plain": [
              "tensor(2)"
            ]
          },
          "metadata": {},
          "execution_count": 45
        }
      ]
    },
    {
      "cell_type": "code",
      "source": [
        "# max and min\n",
        "print(f\"max:{torch.max(e)}\\nmin:{torch.min(e)}\")"
      ],
      "metadata": {
        "colab": {
          "base_uri": "https://localhost:8080/"
        },
        "id": "rGm_UZAQyOiq",
        "outputId": "404f50e4-d3d5-44fe-de7c-eb075b1d086a"
      },
      "execution_count": null,
      "outputs": [
        {
          "output_type": "stream",
          "name": "stdout",
          "text": [
            "max:4\n",
            "min:1\n"
          ]
        }
      ]
    },
    {
      "cell_type": "code",
      "source": [
        "# product\n",
        "\n",
        "torch.prod(e)"
      ],
      "metadata": {
        "colab": {
          "base_uri": "https://localhost:8080/"
        },
        "id": "QNR8WDMryd0M",
        "outputId": "77091af0-78c0-4d8f-f85f-565f31c7ff46"
      },
      "execution_count": null,
      "outputs": [
        {
          "output_type": "execute_result",
          "data": {
            "text/plain": [
              "tensor(429981696)"
            ]
          },
          "metadata": {},
          "execution_count": 47
        }
      ]
    },
    {
      "cell_type": "code",
      "source": [
        "# standard deviation\n",
        "e = e.to(torch.float32)\n",
        "torch.std(e)"
      ],
      "metadata": {
        "colab": {
          "base_uri": "https://localhost:8080/"
        },
        "id": "8KoFJMrXyonM",
        "outputId": "5e65c2a0-8944-4845-e537-70e1b2772046"
      },
      "execution_count": null,
      "outputs": [
        {
          "output_type": "execute_result",
          "data": {
            "text/plain": [
              "tensor(0.9129)"
            ]
          },
          "metadata": {},
          "execution_count": 48
        }
      ]
    },
    {
      "cell_type": "code",
      "source": [
        "# variance\n",
        "\n",
        "torch.var(e)"
      ],
      "metadata": {
        "colab": {
          "base_uri": "https://localhost:8080/"
        },
        "id": "xpuXQ9A5yxqg",
        "outputId": "ec8c4e21-a1a8-492c-a92f-1818fcc3be11"
      },
      "execution_count": null,
      "outputs": [
        {
          "output_type": "execute_result",
          "data": {
            "text/plain": [
              "tensor(0.8333)"
            ]
          },
          "metadata": {},
          "execution_count": 49
        }
      ]
    },
    {
      "cell_type": "code",
      "source": [
        "# argmax\n",
        "\n",
        "torch.argmax(e)"
      ],
      "metadata": {
        "colab": {
          "base_uri": "https://localhost:8080/"
        },
        "id": "bPZwBEFAzijj",
        "outputId": "23ccb93c-780f-4753-ab46-b738178d1233"
      },
      "execution_count": null,
      "outputs": [
        {
          "output_type": "execute_result",
          "data": {
            "text/plain": [
              "tensor(7)"
            ]
          },
          "metadata": {},
          "execution_count": 50
        }
      ]
    },
    {
      "cell_type": "code",
      "source": [
        "# argmin\n",
        "\n",
        "torch.argmin(e)"
      ],
      "metadata": {
        "colab": {
          "base_uri": "https://localhost:8080/"
        },
        "id": "D7JPBU1SzxG_",
        "outputId": "5d762cfc-553e-4368-e2d9-676094d26ea3"
      },
      "execution_count": null,
      "outputs": [
        {
          "output_type": "execute_result",
          "data": {
            "text/plain": [
              "tensor(3)"
            ]
          },
          "metadata": {},
          "execution_count": 51
        }
      ]
    },
    {
      "cell_type": "markdown",
      "source": [
        "# 4. Matrix Operations"
      ],
      "metadata": {
        "id": "3lUMv8_Oz-yF"
      }
    },
    {
      "cell_type": "code",
      "source": [
        "tensor_1 = [1,2,3]\n",
        "tensor_2 = [[5,4,3,2],[1,2,3,4],[5,6,7,8]]"
      ],
      "metadata": {
        "id": "Qx5BAy9F0Ooz"
      },
      "execution_count": null,
      "outputs": []
    },
    {
      "cell_type": "code",
      "source": [
        "f = torch.tensor(tensor_1)\n",
        "g = torch.tensor(tensor_2)"
      ],
      "metadata": {
        "id": "FSSiRky9z1OO"
      },
      "execution_count": null,
      "outputs": []
    },
    {
      "cell_type": "code",
      "source": [
        "print(f,g,sep = '\\n\\n')"
      ],
      "metadata": {
        "colab": {
          "base_uri": "https://localhost:8080/"
        },
        "id": "CzbyY2JX0ek6",
        "outputId": "52e2b68d-225c-462c-e35e-9b54677dffd4"
      },
      "execution_count": null,
      "outputs": [
        {
          "output_type": "stream",
          "name": "stdout",
          "text": [
            "tensor([1, 2, 3])\n",
            "\n",
            "tensor([[5, 4, 3, 2],\n",
            "        [1, 2, 3, 4],\n",
            "        [5, 6, 7, 8]])\n"
          ]
        }
      ]
    },
    {
      "cell_type": "code",
      "source": [
        "# matrix multiplication\n",
        "\n",
        "torch.matmul(f,g)"
      ],
      "metadata": {
        "colab": {
          "base_uri": "https://localhost:8080/"
        },
        "id": "bbsl3ndH0uWf",
        "outputId": "5837811a-a13d-496a-cc56-4847b7d2f114"
      },
      "execution_count": null,
      "outputs": [
        {
          "output_type": "execute_result",
          "data": {
            "text/plain": [
              "tensor([22, 26, 30, 34])"
            ]
          },
          "metadata": {},
          "execution_count": 55
        }
      ]
    },
    {
      "cell_type": "code",
      "source": [
        "vector1 = torch.randint(size = (5,),low = 1,high = 5)\n",
        "vector2 = torch.randint(size = (5,),low = 0,high = 5)"
      ],
      "metadata": {
        "id": "vkCx5s-b10J0"
      },
      "execution_count": null,
      "outputs": []
    },
    {
      "cell_type": "code",
      "source": [
        "vector1,vector2"
      ],
      "metadata": {
        "colab": {
          "base_uri": "https://localhost:8080/"
        },
        "id": "FlAfg0Lg3IYE",
        "outputId": "1729408b-eb82-4208-e6a1-4869bc68336f"
      },
      "execution_count": null,
      "outputs": [
        {
          "output_type": "execute_result",
          "data": {
            "text/plain": [
              "(tensor([1, 4, 3, 2, 2]), tensor([2, 4, 4, 4, 4]))"
            ]
          },
          "metadata": {},
          "execution_count": 57
        }
      ]
    },
    {
      "cell_type": "code",
      "source": [
        "# dot product\n",
        "\n",
        "torch.dot(vector1,vector2)"
      ],
      "metadata": {
        "colab": {
          "base_uri": "https://localhost:8080/"
        },
        "id": "eSvGvWOw1FUc",
        "outputId": "452245a2-4a7b-45e4-9342-9beb63a1e4f3"
      },
      "execution_count": null,
      "outputs": [
        {
          "output_type": "execute_result",
          "data": {
            "text/plain": [
              "tensor(46)"
            ]
          },
          "metadata": {},
          "execution_count": 58
        }
      ]
    },
    {
      "cell_type": "code",
      "source": [
        "g"
      ],
      "metadata": {
        "colab": {
          "base_uri": "https://localhost:8080/"
        },
        "id": "EIZODbOo3dXP",
        "outputId": "65f29b95-6679-491d-ceec-a8988405a1fd"
      },
      "execution_count": null,
      "outputs": [
        {
          "output_type": "execute_result",
          "data": {
            "text/plain": [
              "tensor([[5, 4, 3, 2],\n",
              "        [1, 2, 3, 4],\n",
              "        [5, 6, 7, 8]])"
            ]
          },
          "metadata": {},
          "execution_count": 59
        }
      ]
    },
    {
      "cell_type": "code",
      "source": [
        "# transpose\n",
        "\n",
        "torch.transpose(g,0,1)\n"
      ],
      "metadata": {
        "colab": {
          "base_uri": "https://localhost:8080/"
        },
        "id": "2vN_B6Vf1FRE",
        "outputId": "cb25fd03-93d5-4cce-e0b6-fc316619f624"
      },
      "execution_count": null,
      "outputs": [
        {
          "output_type": "execute_result",
          "data": {
            "text/plain": [
              "tensor([[5, 1, 5],\n",
              "        [4, 2, 6],\n",
              "        [3, 3, 7],\n",
              "        [2, 4, 8]])"
            ]
          },
          "metadata": {},
          "execution_count": 60
        }
      ]
    },
    {
      "cell_type": "code",
      "source": [
        "# det\n",
        "\n",
        "torch.det(g)"
      ],
      "metadata": {
        "colab": {
          "base_uri": "https://localhost:8080/",
          "height": 193
        },
        "id": "oF8b-kch1FNy",
        "outputId": "c50e26c8-bd36-4b95-c153-5465c3e391ba"
      },
      "execution_count": null,
      "outputs": [
        {
          "output_type": "error",
          "ename": "RuntimeError",
          "evalue": "linalg.det: A must be batches of square matrices, but they are 3 by 4 matrices",
          "traceback": [
            "\u001b[0;31m---------------------------------------------------------------------------\u001b[0m",
            "\u001b[0;31mRuntimeError\u001b[0m                              Traceback (most recent call last)",
            "\u001b[0;32m<ipython-input-61-d634962e5f13>\u001b[0m in \u001b[0;36m<cell line: 3>\u001b[0;34m()\u001b[0m\n\u001b[1;32m      1\u001b[0m \u001b[0;31m# det\u001b[0m\u001b[0;34m\u001b[0m\u001b[0;34m\u001b[0m\u001b[0m\n\u001b[1;32m      2\u001b[0m \u001b[0;34m\u001b[0m\u001b[0m\n\u001b[0;32m----> 3\u001b[0;31m \u001b[0mtorch\u001b[0m\u001b[0;34m.\u001b[0m\u001b[0mdet\u001b[0m\u001b[0;34m(\u001b[0m\u001b[0mg\u001b[0m\u001b[0;34m)\u001b[0m\u001b[0;34m\u001b[0m\u001b[0;34m\u001b[0m\u001b[0m\n\u001b[0m",
            "\u001b[0;31mRuntimeError\u001b[0m: linalg.det: A must be batches of square matrices, but they are 3 by 4 matrices"
          ]
        }
      ]
    },
    {
      "cell_type": "code",
      "source": [
        "new_det = torch.randint(size = (3,3),low = 0,high = 5)"
      ],
      "metadata": {
        "id": "us2gvg741FK1"
      },
      "execution_count": null,
      "outputs": []
    },
    {
      "cell_type": "code",
      "source": [
        "new_det"
      ],
      "metadata": {
        "colab": {
          "base_uri": "https://localhost:8080/"
        },
        "id": "eovcq6Jr4QqH",
        "outputId": "9dd3e28c-8ed0-471d-95e3-f5ced7c7ab94"
      },
      "execution_count": null,
      "outputs": [
        {
          "output_type": "execute_result",
          "data": {
            "text/plain": [
              "tensor([[4, 4, 3],\n",
              "        [3, 1, 3],\n",
              "        [2, 1, 1]])"
            ]
          },
          "metadata": {},
          "execution_count": 63
        }
      ]
    },
    {
      "cell_type": "code",
      "source": [
        "new_det = new_det.to(torch.float32)"
      ],
      "metadata": {
        "id": "lIXOL1uY4UGY"
      },
      "execution_count": null,
      "outputs": []
    },
    {
      "cell_type": "code",
      "source": [
        "new_det"
      ],
      "metadata": {
        "colab": {
          "base_uri": "https://localhost:8080/"
        },
        "id": "aMsbOZU44fMl",
        "outputId": "b5817908-3c18-49f0-8442-ca8ae4507bdd"
      },
      "execution_count": null,
      "outputs": [
        {
          "output_type": "execute_result",
          "data": {
            "text/plain": [
              "tensor([[4., 4., 3.],\n",
              "        [3., 1., 3.],\n",
              "        [2., 1., 1.]])"
            ]
          },
          "metadata": {},
          "execution_count": 65
        }
      ]
    },
    {
      "cell_type": "code",
      "source": [
        "torch.det(new_det)"
      ],
      "metadata": {
        "colab": {
          "base_uri": "https://localhost:8080/"
        },
        "id": "NV06B3Md1FGg",
        "outputId": "85050b1c-def2-433a-cc3d-e0faf1dd5e42"
      },
      "execution_count": null,
      "outputs": [
        {
          "output_type": "execute_result",
          "data": {
            "text/plain": [
              "tensor(7.)"
            ]
          },
          "metadata": {},
          "execution_count": 66
        }
      ]
    },
    {
      "cell_type": "code",
      "source": [
        "# inverse\n"
      ],
      "metadata": {
        "id": "73NGMSLG1FCv"
      },
      "execution_count": null,
      "outputs": []
    },
    {
      "cell_type": "markdown",
      "source": [
        "# Comparision Operations"
      ],
      "metadata": {
        "id": "Jk1rWOPG5xKB"
      }
    },
    {
      "cell_type": "code",
      "source": [
        "a = torch.tensor([1,2,3,4,5])\n",
        "b = torch.tensor([5,4,3,2,1])"
      ],
      "metadata": {
        "id": "4VCqwOQF7IpO"
      },
      "execution_count": null,
      "outputs": []
    },
    {
      "cell_type": "code",
      "source": [
        "# greater than\n",
        "\n",
        "print(a>b)\n",
        "\n",
        "# less than\n",
        "\n",
        "print(a<b)\n",
        "\n",
        "# greater than equal to\n",
        "\n",
        "print(a>=b)\n",
        "\n",
        "# less than equal to\n",
        "\n",
        "print(a<=b)\n",
        "\n",
        "\n",
        "\n",
        "# not equal to\n",
        "\n",
        "print(a!=b)\n"
      ],
      "metadata": {
        "id": "q_LLKAnp1E56",
        "colab": {
          "base_uri": "https://localhost:8080/"
        },
        "outputId": "966f6b8d-f259-4875-e8d4-3cac233db59b"
      },
      "execution_count": null,
      "outputs": [
        {
          "output_type": "stream",
          "name": "stdout",
          "text": [
            "tensor([False, False, False,  True,  True])\n",
            "tensor([ True,  True, False, False, False])\n",
            "tensor([False, False,  True,  True,  True])\n",
            "tensor([ True,  True,  True, False, False])\n",
            "tensor([ True,  True, False,  True,  True])\n"
          ]
        }
      ]
    },
    {
      "cell_type": "markdown",
      "source": [
        "# 6.Special Functions"
      ],
      "metadata": {
        "id": "jJ_J2kQZ7jkY"
      }
    },
    {
      "cell_type": "code",
      "source": [
        "k = torch.randint(size = (2,3),low = -5,high = 5,dtype = torch.float32)\n",
        "k"
      ],
      "metadata": {
        "id": "Ozm8pEZ91E2n",
        "colab": {
          "base_uri": "https://localhost:8080/"
        },
        "outputId": "1469cafe-05b8-4f13-d5a5-257907c45336"
      },
      "execution_count": null,
      "outputs": [
        {
          "output_type": "execute_result",
          "data": {
            "text/plain": [
              "tensor([[-1.,  4., -4.],\n",
              "        [ 3.,  4.,  2.]])"
            ]
          },
          "metadata": {},
          "execution_count": 70
        }
      ]
    },
    {
      "cell_type": "code",
      "source": [
        "# log\n",
        "\n",
        "torch.log(k)"
      ],
      "metadata": {
        "colab": {
          "base_uri": "https://localhost:8080/"
        },
        "id": "HRW_efpk7x0K",
        "outputId": "e5638559-d1c1-4ec8-83ec-ac8c8fbafd1f"
      },
      "execution_count": null,
      "outputs": [
        {
          "output_type": "execute_result",
          "data": {
            "text/plain": [
              "tensor([[   nan, 1.3863,    nan],\n",
              "        [1.0986, 1.3863, 0.6931]])"
            ]
          },
          "metadata": {},
          "execution_count": 71
        }
      ]
    },
    {
      "cell_type": "code",
      "source": [
        "# exp\n",
        "\n",
        "torch.exp(k)"
      ],
      "metadata": {
        "colab": {
          "base_uri": "https://localhost:8080/"
        },
        "id": "TRUhhcnz74cy",
        "outputId": "7710a367-31b6-4349-f76d-7b23a3f999f3"
      },
      "execution_count": null,
      "outputs": [
        {
          "output_type": "execute_result",
          "data": {
            "text/plain": [
              "tensor([[3.6788e-01, 5.4598e+01, 1.8316e-02],\n",
              "        [2.0086e+01, 5.4598e+01, 7.3891e+00]])"
            ]
          },
          "metadata": {},
          "execution_count": 72
        }
      ]
    },
    {
      "cell_type": "code",
      "source": [
        "# sqrt\n",
        "\n",
        "torch.sqrt(k)"
      ],
      "metadata": {
        "colab": {
          "base_uri": "https://localhost:8080/"
        },
        "id": "K4XsI2ty7704",
        "outputId": "6859274b-2332-43d8-836d-994712b657a9"
      },
      "execution_count": null,
      "outputs": [
        {
          "output_type": "execute_result",
          "data": {
            "text/plain": [
              "tensor([[   nan, 2.0000,    nan],\n",
              "        [1.7321, 2.0000, 1.4142]])"
            ]
          },
          "metadata": {},
          "execution_count": 73
        }
      ]
    },
    {
      "cell_type": "code",
      "source": [
        "# sigmoid\n",
        "\n",
        "torch.sigmoid(k)"
      ],
      "metadata": {
        "colab": {
          "base_uri": "https://localhost:8080/"
        },
        "id": "PS3UYg0O7_I0",
        "outputId": "9641067e-c694-424d-b22a-aa2e94b2bf06"
      },
      "execution_count": null,
      "outputs": [
        {
          "output_type": "execute_result",
          "data": {
            "text/plain": [
              "tensor([[0.2689, 0.9820, 0.0180],\n",
              "        [0.9526, 0.9820, 0.8808]])"
            ]
          },
          "metadata": {},
          "execution_count": 74
        }
      ]
    },
    {
      "cell_type": "code",
      "source": [
        "# softmax\n",
        "\n",
        "torch.softmax(k,dim = 1)"
      ],
      "metadata": {
        "colab": {
          "base_uri": "https://localhost:8080/"
        },
        "id": "d_CiPLet8Cld",
        "outputId": "c08f1f6a-be8d-4699-d368-be3cae556c41"
      },
      "execution_count": null,
      "outputs": [
        {
          "output_type": "execute_result",
          "data": {
            "text/plain": [
              "tensor([[6.6906e-03, 9.9298e-01, 3.3311e-04],\n",
              "        [2.4473e-01, 6.6524e-01, 9.0031e-02]])"
            ]
          },
          "metadata": {},
          "execution_count": 75
        }
      ]
    },
    {
      "cell_type": "code",
      "source": [
        "# rel\n",
        "\n",
        "torch.relu(k)"
      ],
      "metadata": {
        "colab": {
          "base_uri": "https://localhost:8080/"
        },
        "id": "khpbPiX18HQT",
        "outputId": "2b4218be-ff7a-415c-95f3-e312f470fd47"
      },
      "execution_count": null,
      "outputs": [
        {
          "output_type": "execute_result",
          "data": {
            "text/plain": [
              "tensor([[0., 4., 0.],\n",
              "        [3., 4., 2.]])"
            ]
          },
          "metadata": {},
          "execution_count": 76
        }
      ]
    },
    {
      "cell_type": "markdown",
      "source": [
        "# Inplace Operations"
      ],
      "metadata": {
        "id": "BG1A0YEy8njQ"
      }
    },
    {
      "cell_type": "code",
      "source": [
        "# function along with underscore will be used"
      ],
      "metadata": {
        "id": "dqRwS8F6-kR7"
      },
      "execution_count": null,
      "outputs": []
    },
    {
      "cell_type": "code",
      "source": [
        "m = torch.randint(size = (2,3),low = -5,high = 5,dtype = torch.float32)\n",
        "n = torch.randint(size = (2,3),low = -5,high = 5,dtype = torch.float32)\n",
        "\n",
        "print(m,end = '\\n\\n')\n",
        "print(n)"
      ],
      "metadata": {
        "colab": {
          "base_uri": "https://localhost:8080/"
        },
        "id": "9slwKZ-K8T4J",
        "outputId": "857f94be-81cd-4cbe-b5ca-a1b4d3176321"
      },
      "execution_count": null,
      "outputs": [
        {
          "output_type": "stream",
          "name": "stdout",
          "text": [
            "tensor([[-1.,  4.,  1.],\n",
            "        [-1., -1.,  1.]])\n",
            "\n",
            "tensor([[ 1.,  0.,  1.],\n",
            "        [-2.,  1., -5.]])\n"
          ]
        }
      ]
    },
    {
      "cell_type": "code",
      "source": [
        "m.add_(n)"
      ],
      "metadata": {
        "colab": {
          "base_uri": "https://localhost:8080/"
        },
        "id": "GcDaNetE9Hp6",
        "outputId": "d2db4924-5ef6-417a-82ab-ce324516122c"
      },
      "execution_count": null,
      "outputs": [
        {
          "output_type": "execute_result",
          "data": {
            "text/plain": [
              "tensor([[ 0.,  4.,  2.],\n",
              "        [-3.,  0., -4.]])"
            ]
          },
          "metadata": {},
          "execution_count": 79
        }
      ]
    },
    {
      "cell_type": "code",
      "source": [
        "m"
      ],
      "metadata": {
        "colab": {
          "base_uri": "https://localhost:8080/"
        },
        "id": "7y6Z_fd39Lm7",
        "outputId": "a95ef985-180e-47d8-aedb-6fb68df698d4"
      },
      "execution_count": null,
      "outputs": [
        {
          "output_type": "execute_result",
          "data": {
            "text/plain": [
              "tensor([[ 0.,  4.,  2.],\n",
              "        [-3.,  0., -4.]])"
            ]
          },
          "metadata": {},
          "execution_count": 80
        }
      ]
    },
    {
      "cell_type": "code",
      "source": [
        "n"
      ],
      "metadata": {
        "colab": {
          "base_uri": "https://localhost:8080/"
        },
        "id": "CzzVlcIB9UNE",
        "outputId": "b5374754-e1f7-40e0-fdf2-924a2e65e1b0"
      },
      "execution_count": null,
      "outputs": [
        {
          "output_type": "execute_result",
          "data": {
            "text/plain": [
              "tensor([[ 1.,  0.,  1.],\n",
              "        [-2.,  1., -5.]])"
            ]
          },
          "metadata": {},
          "execution_count": 81
        }
      ]
    },
    {
      "cell_type": "code",
      "source": [
        "torch.relu(m)"
      ],
      "metadata": {
        "colab": {
          "base_uri": "https://localhost:8080/"
        },
        "id": "c7sX54oP9WnZ",
        "outputId": "1fb4a685-fe4d-4a22-8c8b-535fc5f54f66"
      },
      "execution_count": null,
      "outputs": [
        {
          "output_type": "execute_result",
          "data": {
            "text/plain": [
              "tensor([[0., 4., 2.],\n",
              "        [0., 0., 0.]])"
            ]
          },
          "metadata": {},
          "execution_count": 82
        }
      ]
    },
    {
      "cell_type": "code",
      "source": [
        "m"
      ],
      "metadata": {
        "colab": {
          "base_uri": "https://localhost:8080/"
        },
        "id": "Mo663Go9-AHI",
        "outputId": "2842ff0c-60a3-4dc8-9c0b-b59bfe4dffff"
      },
      "execution_count": null,
      "outputs": [
        {
          "output_type": "execute_result",
          "data": {
            "text/plain": [
              "tensor([[ 0.,  4.,  2.],\n",
              "        [-3.,  0., -4.]])"
            ]
          },
          "metadata": {},
          "execution_count": 83
        }
      ]
    },
    {
      "cell_type": "code",
      "source": [
        "m.relu_()"
      ],
      "metadata": {
        "colab": {
          "base_uri": "https://localhost:8080/"
        },
        "id": "GaDS_DLu9eiw",
        "outputId": "bb1d6500-0ff9-4aab-c128-9473aea4c04c"
      },
      "execution_count": null,
      "outputs": [
        {
          "output_type": "execute_result",
          "data": {
            "text/plain": [
              "tensor([[0., 4., 2.],\n",
              "        [0., 0., 0.]])"
            ]
          },
          "metadata": {},
          "execution_count": 84
        }
      ]
    },
    {
      "cell_type": "code",
      "source": [
        "m"
      ],
      "metadata": {
        "colab": {
          "base_uri": "https://localhost:8080/"
        },
        "id": "_yDGJPlV9jqD",
        "outputId": "04fb4eb3-5a39-4a70-995d-f189ab0f34a8"
      },
      "execution_count": null,
      "outputs": [
        {
          "output_type": "execute_result",
          "data": {
            "text/plain": [
              "tensor([[0., 4., 2.],\n",
              "        [0., 0., 0.]])"
            ]
          },
          "metadata": {},
          "execution_count": 85
        }
      ]
    },
    {
      "cell_type": "markdown",
      "source": [
        "# Copying a tensor"
      ],
      "metadata": {
        "id": "VGdwOb1f-tSB"
      }
    },
    {
      "cell_type": "code",
      "source": [
        "a = torch.rand(2,3)\n",
        "a"
      ],
      "metadata": {
        "colab": {
          "base_uri": "https://localhost:8080/"
        },
        "id": "_v5W5ncw9meR",
        "outputId": "05a4c3a0-c7ea-4db2-8e9f-af728426e7d9"
      },
      "execution_count": null,
      "outputs": [
        {
          "output_type": "execute_result",
          "data": {
            "text/plain": [
              "tensor([[0.9811, 0.7662, 0.3325],\n",
              "        [0.2877, 0.6533, 0.3310]])"
            ]
          },
          "metadata": {},
          "execution_count": 86
        }
      ]
    },
    {
      "cell_type": "code",
      "source": [
        "b = a"
      ],
      "metadata": {
        "id": "dHYzT53Z-2qQ"
      },
      "execution_count": null,
      "outputs": []
    },
    {
      "cell_type": "code",
      "source": [
        "b"
      ],
      "metadata": {
        "colab": {
          "base_uri": "https://localhost:8080/"
        },
        "id": "PkrcfFwx-5Kz",
        "outputId": "069f77c8-890a-4d9d-cfd5-2d88faa03ea1"
      },
      "execution_count": null,
      "outputs": [
        {
          "output_type": "execute_result",
          "data": {
            "text/plain": [
              "tensor([[0.9811, 0.7662, 0.3325],\n",
              "        [0.2877, 0.6533, 0.3310]])"
            ]
          },
          "metadata": {},
          "execution_count": 88
        }
      ]
    },
    {
      "cell_type": "code",
      "source": [
        "a.add_(1)"
      ],
      "metadata": {
        "colab": {
          "base_uri": "https://localhost:8080/"
        },
        "id": "DJmyCs1v-56x",
        "outputId": "fa8bc519-a4d1-4966-8fac-5960bd80ffec"
      },
      "execution_count": null,
      "outputs": [
        {
          "output_type": "execute_result",
          "data": {
            "text/plain": [
              "tensor([[1.9811, 1.7662, 1.3325],\n",
              "        [1.2877, 1.6533, 1.3310]])"
            ]
          },
          "metadata": {},
          "execution_count": 89
        }
      ]
    },
    {
      "cell_type": "code",
      "source": [
        "b"
      ],
      "metadata": {
        "colab": {
          "base_uri": "https://localhost:8080/"
        },
        "id": "F6NpX_Ms-9zt",
        "outputId": "a9be11ee-5431-405f-fc0e-d1e6bcf99986"
      },
      "execution_count": null,
      "outputs": [
        {
          "output_type": "execute_result",
          "data": {
            "text/plain": [
              "tensor([[1.9811, 1.7662, 1.3325],\n",
              "        [1.2877, 1.6533, 1.3310]])"
            ]
          },
          "metadata": {},
          "execution_count": 90
        }
      ]
    },
    {
      "cell_type": "code",
      "source": [
        "print(id(a))\n",
        "print(id(b))"
      ],
      "metadata": {
        "colab": {
          "base_uri": "https://localhost:8080/"
        },
        "id": "F0wQrhXg-_Ug",
        "outputId": "716ce688-1058-4139-8de2-e3d4c2b60eb0"
      },
      "execution_count": null,
      "outputs": [
        {
          "output_type": "stream",
          "name": "stdout",
          "text": [
            "139513162024256\n",
            "139513162024256\n"
          ]
        }
      ]
    },
    {
      "cell_type": "code",
      "source": [
        "b = a.clone()\n",
        "b"
      ],
      "metadata": {
        "colab": {
          "base_uri": "https://localhost:8080/"
        },
        "id": "BhLH1Kp6_ODp",
        "outputId": "f853b5c5-917b-4629-c980-a3f4a62234ee"
      },
      "execution_count": null,
      "outputs": [
        {
          "output_type": "execute_result",
          "data": {
            "text/plain": [
              "tensor([[1.9811, 1.7662, 1.3325],\n",
              "        [1.2877, 1.6533, 1.3310]])"
            ]
          },
          "metadata": {},
          "execution_count": 92
        }
      ]
    },
    {
      "cell_type": "code",
      "source": [
        "a[0][0] = 3"
      ],
      "metadata": {
        "id": "w1k370HD_T1R"
      },
      "execution_count": null,
      "outputs": []
    },
    {
      "cell_type": "code",
      "source": [
        "a"
      ],
      "metadata": {
        "colab": {
          "base_uri": "https://localhost:8080/"
        },
        "id": "xM-U30XZ_ZeQ",
        "outputId": "315f9d3b-dfb3-4977-f950-92c21d7bb468"
      },
      "execution_count": null,
      "outputs": [
        {
          "output_type": "execute_result",
          "data": {
            "text/plain": [
              "tensor([[3.0000, 1.7662, 1.3325],\n",
              "        [1.2877, 1.6533, 1.3310]])"
            ]
          },
          "metadata": {},
          "execution_count": 94
        }
      ]
    },
    {
      "cell_type": "code",
      "source": [
        "b"
      ],
      "metadata": {
        "colab": {
          "base_uri": "https://localhost:8080/"
        },
        "id": "tyMOsT1u_YvR",
        "outputId": "ddc925dd-28bd-498d-b2eb-bdf626c17bf9"
      },
      "execution_count": null,
      "outputs": [
        {
          "output_type": "execute_result",
          "data": {
            "text/plain": [
              "tensor([[1.9811, 1.7662, 1.3325],\n",
              "        [1.2877, 1.6533, 1.3310]])"
            ]
          },
          "metadata": {},
          "execution_count": 95
        }
      ]
    },
    {
      "cell_type": "code",
      "source": [
        "print(id(a))\n",
        "print(id(b))"
      ],
      "metadata": {
        "colab": {
          "base_uri": "https://localhost:8080/"
        },
        "id": "5TjrSVm1_bMN",
        "outputId": "9b0c1855-b4d1-4af8-b02a-326c2179f44c"
      },
      "execution_count": null,
      "outputs": [
        {
          "output_type": "stream",
          "name": "stdout",
          "text": [
            "139513162024256\n",
            "139513162025696\n"
          ]
        }
      ]
    },
    {
      "cell_type": "code",
      "source": [],
      "metadata": {
        "id": "4stjXuzE_eje"
      },
      "execution_count": null,
      "outputs": []
    },
    {
      "cell_type": "markdown",
      "source": [
        "# Tensor Operations on GPU"
      ],
      "metadata": {
        "id": "aFuHIg8p_yNH"
      }
    },
    {
      "cell_type": "code",
      "source": [
        "torch.cuda.is_available()"
      ],
      "metadata": {
        "colab": {
          "base_uri": "https://localhost:8080/"
        },
        "id": "eJtL_keH_2Dv",
        "outputId": "3d56e147-4dc5-4742-bcef-38d48969e7c5"
      },
      "execution_count": null,
      "outputs": [
        {
          "output_type": "execute_result",
          "data": {
            "text/plain": [
              "True"
            ]
          },
          "metadata": {},
          "execution_count": 97
        }
      ]
    },
    {
      "cell_type": "code",
      "source": [
        "device  = torch.device('cuda')"
      ],
      "metadata": {
        "id": "b1gA56-U_4yH"
      },
      "execution_count": null,
      "outputs": []
    },
    {
      "cell_type": "code",
      "source": [
        "# creating a new tensor on GPU\n",
        "\n",
        "torch.rand((2,3),device = device)"
      ],
      "metadata": {
        "colab": {
          "base_uri": "https://localhost:8080/"
        },
        "id": "fF09HB6yACFX",
        "outputId": "b3d95252-c682-4570-b332-902673725035"
      },
      "execution_count": null,
      "outputs": [
        {
          "output_type": "execute_result",
          "data": {
            "text/plain": [
              "tensor([[0.9835, 0.2422, 0.7872],\n",
              "        [0.0981, 0.6317, 0.2422]], device='cuda:0')"
            ]
          },
          "metadata": {},
          "execution_count": 99
        }
      ]
    },
    {
      "cell_type": "code",
      "source": [
        "# moving an existing tensor to gpu\n",
        "\n",
        "a = torch.rand((2,3))\n",
        "a"
      ],
      "metadata": {
        "colab": {
          "base_uri": "https://localhost:8080/"
        },
        "id": "V5jt34sPAQhf",
        "outputId": "ea2043ea-2e6c-4de7-bbd4-8b327173bb06"
      },
      "execution_count": null,
      "outputs": [
        {
          "output_type": "execute_result",
          "data": {
            "text/plain": [
              "tensor([[0.6552, 0.2441, 0.1906],\n",
              "        [0.4875, 0.7936, 0.9259]])"
            ]
          },
          "metadata": {},
          "execution_count": 100
        }
      ]
    },
    {
      "cell_type": "code",
      "source": [
        "b = a.to(device)"
      ],
      "metadata": {
        "id": "oiH1wG7cAdm2"
      },
      "execution_count": null,
      "outputs": []
    },
    {
      "cell_type": "code",
      "source": [
        "b+5"
      ],
      "metadata": {
        "colab": {
          "base_uri": "https://localhost:8080/"
        },
        "id": "LZnr72jsAfto",
        "outputId": "e4686380-b672-4c1f-af7a-574e960292ed"
      },
      "execution_count": null,
      "outputs": [
        {
          "output_type": "execute_result",
          "data": {
            "text/plain": [
              "tensor([[5.6552, 5.2441, 5.1906],\n",
              "        [5.4875, 5.7936, 5.9259]], device='cuda:0')"
            ]
          },
          "metadata": {},
          "execution_count": 102
        }
      ]
    },
    {
      "cell_type": "code",
      "source": [],
      "metadata": {
        "id": "KR2PIK15AvSZ"
      },
      "execution_count": null,
      "outputs": []
    },
    {
      "cell_type": "code",
      "source": [],
      "metadata": {
        "id": "m-bWDCS8BeYq"
      },
      "execution_count": null,
      "outputs": []
    },
    {
      "cell_type": "code",
      "source": [],
      "metadata": {
        "id": "0lIJd8FtBeVd"
      },
      "execution_count": null,
      "outputs": []
    },
    {
      "cell_type": "code",
      "source": [],
      "metadata": {
        "id": "EK2aPcvKBeR8"
      },
      "execution_count": null,
      "outputs": []
    },
    {
      "cell_type": "markdown",
      "source": [
        "# Reshaping the tensors"
      ],
      "metadata": {
        "id": "2jJ4gj4XBhEC"
      }
    },
    {
      "cell_type": "code",
      "source": [
        "a = torch.eye(4)\n",
        "a"
      ],
      "metadata": {
        "colab": {
          "base_uri": "https://localhost:8080/"
        },
        "id": "ilYqyIyqBeMt",
        "outputId": "4d7637ef-dd67-4c72-f103-0a7b2909dacf"
      },
      "execution_count": null,
      "outputs": [
        {
          "output_type": "execute_result",
          "data": {
            "text/plain": [
              "tensor([[1., 0., 0., 0.],\n",
              "        [0., 1., 0., 0.],\n",
              "        [0., 0., 1., 0.],\n",
              "        [0., 0., 0., 1.]])"
            ]
          },
          "metadata": {},
          "execution_count": 103
        }
      ]
    },
    {
      "cell_type": "code",
      "source": [
        "# reshape\n",
        "\n",
        "a.reshape(2,2,2,2)"
      ],
      "metadata": {
        "colab": {
          "base_uri": "https://localhost:8080/"
        },
        "id": "K4EBLk8eBeJS",
        "outputId": "1d56f8c2-ab8c-4edb-a492-3d9739adabd7"
      },
      "execution_count": null,
      "outputs": [
        {
          "output_type": "execute_result",
          "data": {
            "text/plain": [
              "tensor([[[[1., 0.],\n",
              "          [0., 0.]],\n",
              "\n",
              "         [[0., 1.],\n",
              "          [0., 0.]]],\n",
              "\n",
              "\n",
              "        [[[0., 0.],\n",
              "          [1., 0.]],\n",
              "\n",
              "         [[0., 0.],\n",
              "          [0., 1.]]]])"
            ]
          },
          "metadata": {},
          "execution_count": 104
        }
      ]
    },
    {
      "cell_type": "code",
      "source": [
        "# flatten\n",
        "\n",
        "a.flatten()"
      ],
      "metadata": {
        "colab": {
          "base_uri": "https://localhost:8080/"
        },
        "id": "OTDaRO12BeGS",
        "outputId": "acd51304-7586-4755-f052-5d3de9369aaa"
      },
      "execution_count": null,
      "outputs": [
        {
          "output_type": "execute_result",
          "data": {
            "text/plain": [
              "tensor([1., 0., 0., 0., 0., 1., 0., 0., 0., 0., 1., 0., 0., 0., 0., 1.])"
            ]
          },
          "metadata": {},
          "execution_count": 105
        }
      ]
    },
    {
      "cell_type": "code",
      "source": [
        "b = torch.rand(2,3,4)\n",
        "b"
      ],
      "metadata": {
        "colab": {
          "base_uri": "https://localhost:8080/"
        },
        "id": "E9pef2P5BeCo",
        "outputId": "c108ac12-5861-48d7-c95e-6cbf4f87b000"
      },
      "execution_count": null,
      "outputs": [
        {
          "output_type": "execute_result",
          "data": {
            "text/plain": [
              "tensor([[[0.6105, 0.2030, 0.7614, 0.6949],\n",
              "         [0.7133, 0.3333, 0.4325, 0.7307],\n",
              "         [0.7065, 0.8321, 0.2001, 0.8140]],\n",
              "\n",
              "        [[0.3055, 0.4874, 0.2647, 0.3518],\n",
              "         [0.8371, 0.9271, 0.6741, 0.1249],\n",
              "         [0.3156, 0.8468, 0.3651, 0.0916]]])"
            ]
          },
          "metadata": {},
          "execution_count": 106
        }
      ]
    },
    {
      "cell_type": "code",
      "source": [
        "# permute\n",
        "b.permute(2,0,1).shape"
      ],
      "metadata": {
        "colab": {
          "base_uri": "https://localhost:8080/"
        },
        "id": "zAO-zZtzBd_b",
        "outputId": "76034ec2-e4fd-464b-ca05-f400a4a82d92"
      },
      "execution_count": null,
      "outputs": [
        {
          "output_type": "execute_result",
          "data": {
            "text/plain": [
              "torch.Size([4, 2, 3])"
            ]
          },
          "metadata": {},
          "execution_count": 107
        }
      ]
    },
    {
      "cell_type": "code",
      "source": [
        "# unsqueeze -----> adds new dimension\n",
        "# useful during classification\n",
        "# during prediction model accept as batches: n*266*266*3\n",
        "#image size\n",
        "c = torch.rand(266,226,3)\n",
        "c.unsqueeze(dim = 0).shape"
      ],
      "metadata": {
        "colab": {
          "base_uri": "https://localhost:8080/"
        },
        "id": "_WWe2ETGBd7d",
        "outputId": "407c5e35-5a14-45c2-a104-2b9be5a06959"
      },
      "execution_count": null,
      "outputs": [
        {
          "output_type": "execute_result",
          "data": {
            "text/plain": [
              "torch.Size([1, 266, 226, 3])"
            ]
          },
          "metadata": {},
          "execution_count": 108
        }
      ]
    },
    {
      "cell_type": "code",
      "source": [
        "c.unsqueeze(dim = 1).shape"
      ],
      "metadata": {
        "colab": {
          "base_uri": "https://localhost:8080/"
        },
        "id": "nhi7NjoDBd4D",
        "outputId": "e52ed8f9-1dab-4780-9900-191d1b4b8be4"
      },
      "execution_count": null,
      "outputs": [
        {
          "output_type": "execute_result",
          "data": {
            "text/plain": [
              "torch.Size([266, 1, 226, 3])"
            ]
          },
          "metadata": {},
          "execution_count": 109
        }
      ]
    },
    {
      "cell_type": "code",
      "source": [
        "# squeeze\n",
        "\n",
        "d = torch.rand(1,20)\n",
        "d.squeeze(dim = 0).shape"
      ],
      "metadata": {
        "colab": {
          "base_uri": "https://localhost:8080/"
        },
        "id": "3GHgWWQSDBv6",
        "outputId": "42a1659b-75ce-43fa-dc7a-61df23578f9e"
      },
      "execution_count": null,
      "outputs": [
        {
          "output_type": "execute_result",
          "data": {
            "text/plain": [
              "torch.Size([20])"
            ]
          },
          "metadata": {},
          "execution_count": 110
        }
      ]
    },
    {
      "cell_type": "markdown",
      "source": [
        "# Numpy and Pytorch"
      ],
      "metadata": {
        "id": "y1Po5jiJEHiq"
      }
    },
    {
      "cell_type": "code",
      "source": [
        "import numpy as np"
      ],
      "metadata": {
        "id": "HWsZQy0nEAoy"
      },
      "execution_count": null,
      "outputs": []
    },
    {
      "cell_type": "code",
      "source": [
        "a = torch.tensor([1,7,2,9])\n",
        "a"
      ],
      "metadata": {
        "colab": {
          "base_uri": "https://localhost:8080/"
        },
        "id": "8-Lj_gnCEF6l",
        "outputId": "70bab6f3-e454-4048-d4cb-901537165fc2"
      },
      "execution_count": null,
      "outputs": [
        {
          "output_type": "execute_result",
          "data": {
            "text/plain": [
              "tensor([1, 7, 2, 9])"
            ]
          },
          "metadata": {},
          "execution_count": 112
        }
      ]
    },
    {
      "cell_type": "code",
      "source": [
        "b = a.numpy()\n",
        "b"
      ],
      "metadata": {
        "colab": {
          "base_uri": "https://localhost:8080/"
        },
        "id": "O-y0GSYpEF3N",
        "outputId": "58800a7d-e01f-4b6e-fcfa-a896586e7ff3"
      },
      "execution_count": null,
      "outputs": [
        {
          "output_type": "execute_result",
          "data": {
            "text/plain": [
              "array([1, 7, 2, 9])"
            ]
          },
          "metadata": {},
          "execution_count": 113
        }
      ]
    },
    {
      "cell_type": "code",
      "source": [
        "type(b)"
      ],
      "metadata": {
        "colab": {
          "base_uri": "https://localhost:8080/"
        },
        "id": "nH39VI5OEF0H",
        "outputId": "490c059a-1162-410a-8e3d-bbec0bf32037"
      },
      "execution_count": null,
      "outputs": [
        {
          "output_type": "execute_result",
          "data": {
            "text/plain": [
              "numpy.ndarray"
            ]
          },
          "metadata": {},
          "execution_count": 114
        }
      ]
    },
    {
      "cell_type": "code",
      "source": [
        "c = np.array([1,7,2,9])\n",
        "c"
      ],
      "metadata": {
        "colab": {
          "base_uri": "https://localhost:8080/"
        },
        "id": "M_-JXdibEFwr",
        "outputId": "db909573-70c3-472e-af09-b8b6612fee27"
      },
      "execution_count": null,
      "outputs": [
        {
          "output_type": "execute_result",
          "data": {
            "text/plain": [
              "array([1, 7, 2, 9])"
            ]
          },
          "metadata": {},
          "execution_count": 115
        }
      ]
    },
    {
      "cell_type": "code",
      "source": [
        "torch.from_numpy(c)"
      ],
      "metadata": {
        "colab": {
          "base_uri": "https://localhost:8080/"
        },
        "id": "z91BJNvJEFtT",
        "outputId": "0a5e4603-21b5-4966-80ee-bc07a301529c"
      },
      "execution_count": null,
      "outputs": [
        {
          "output_type": "execute_result",
          "data": {
            "text/plain": [
              "tensor([1, 7, 2, 9])"
            ]
          },
          "metadata": {},
          "execution_count": 116
        }
      ]
    },
    {
      "cell_type": "code",
      "source": [
        "import torch\n",
        "import time\n",
        "\n",
        "# Create random matrices on CPU\n",
        "size = 10000  # Adjust the size as needed\n",
        "matrix_cpu1 = torch.randn(size, size)\n",
        "matrix_cpu2 = torch.randn(size, size)\n",
        "\n",
        "# Measure time on CPU\n",
        "start_time = time.time()\n",
        "result_cpu = torch.matmul(matrix_cpu1, matrix_cpu2)  # Matrix multiplication on CPU\n",
        "cpu_time = time.time() - start_time\n",
        "\n",
        "print(f\"Time on CPU: {cpu_time:.4f} seconds\")\n",
        "\n",
        "# Move matrices to GPU\n",
        "matrix_gpu1 = matrix_cpu1.to('cuda')\n",
        "matrix_gpu2 = matrix_cpu2.to('cuda')\n",
        "\n",
        "# Measure time on GPU\n",
        "start_time = time.time()\n",
        "result_gpu = torch.matmul(matrix_gpu1, matrix_gpu2)  # Matrix multiplication on GPU\n",
        "torch.cuda.synchronize()  # Ensure all GPU operations are complete\n",
        "gpu_time = time.time() - start_time\n",
        "\n",
        "print(f\"Time on GPU: {gpu_time:.4f} seconds\")\n",
        "\n",
        "# Compare results\n",
        "print(f\"Speedup (CPU time / GPU time): {cpu_time / gpu_time:.4f}\")"
      ],
      "metadata": {
        "id": "upCJEmtqEFqC",
        "colab": {
          "base_uri": "https://localhost:8080/"
        },
        "outputId": "2644a52f-733d-4917-e4b3-0e1687de18f4"
      },
      "execution_count": null,
      "outputs": [
        {
          "output_type": "stream",
          "name": "stdout",
          "text": [
            "Time on CPU: 14.9630 seconds\n",
            "Time on GPU: 0.5706 seconds\n",
            "Speedup (CPU time / GPU time): 26.2224\n"
          ]
        }
      ]
    },
    {
      "cell_type": "code",
      "source": [],
      "metadata": {
        "id": "vLUC7lgyEFm2"
      },
      "execution_count": null,
      "outputs": []
    },
    {
      "cell_type": "code",
      "source": [],
      "metadata": {
        "id": "TgHWWv4JEFjc"
      },
      "execution_count": null,
      "outputs": []
    },
    {
      "cell_type": "code",
      "source": [],
      "metadata": {
        "id": "rj9RI_0jEFfX"
      },
      "execution_count": null,
      "outputs": []
    },
    {
      "cell_type": "code",
      "source": [],
      "metadata": {
        "id": "jvQl8PsOxLaG"
      },
      "execution_count": null,
      "outputs": []
    },
    {
      "cell_type": "code",
      "source": [],
      "metadata": {
        "id": "Fx2or7BHxLWj"
      },
      "execution_count": null,
      "outputs": []
    },
    {
      "cell_type": "code",
      "source": [],
      "metadata": {
        "id": "2j8_ZIERxLSf"
      },
      "execution_count": null,
      "outputs": []
    },
    {
      "cell_type": "code",
      "source": [],
      "metadata": {
        "id": "RQD35pdIxLO3"
      },
      "execution_count": null,
      "outputs": []
    }
  ]
}